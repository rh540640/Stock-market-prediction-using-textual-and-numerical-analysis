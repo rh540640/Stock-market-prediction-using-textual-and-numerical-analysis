{
 "cells": [
  {
   "cell_type": "markdown",
   "metadata": {},
   "source": [
    "\n",
    "\n"
   ]
  },
  {
   "cell_type": "markdown",
   "metadata": {},
   "source": [
    "# Stock Market Prediction Using Numerical & Textual Analysis"
   ]
  },
  {
   "cell_type": "markdown",
   "metadata": {
    "jp-MarkdownHeadingCollapsed": true,
    "tags": []
   },
   "source": [
    "## Importing Libraries"
   ]
  },
  {
   "cell_type": "code",
   "execution_count": 2,
   "metadata": {
    "execution": {
     "iopub.execute_input": "2022-02-09T00:41:50.172517Z",
     "iopub.status.busy": "2022-02-09T00:41:50.171991Z",
     "iopub.status.idle": "2022-02-09T00:41:54.059700Z",
     "shell.execute_reply": "2022-02-09T00:41:54.058946Z",
     "shell.execute_reply.started": "2022-02-09T00:41:50.172480Z"
    }
   },
   "outputs": [
    {
     "name": "stdout",
     "output_type": "stream",
     "text": [
      "[nltk_data] Downloading package stopwords to /usr/share/nltk_data...\n",
      "[nltk_data]   Package stopwords is already up-to-date!\n",
      "[nltk_data] Downloading package vader_lexicon to\n",
      "[nltk_data]     /usr/share/nltk_data...\n",
      "[nltk_data]   Package vader_lexicon is already up-to-date!\n"
     ]
    },
    {
     "data": {
      "text/html": [
       "<style type='text/css'>\n",
       ".datatable table.frame { margin-bottom: 0; }\n",
       ".datatable table.frame thead { border-bottom: none; }\n",
       ".datatable table.frame tr.coltypes td {  color: #FFFFFF;  line-height: 6px;  padding: 0 0.5em;}\n",
       ".datatable .bool    { background: #DDDD99; }\n",
       ".datatable .object  { background: #565656; }\n",
       ".datatable .int     { background: #5D9E5D; }\n",
       ".datatable .float   { background: #4040CC; }\n",
       ".datatable .str     { background: #CC4040; }\n",
       ".datatable .time    { background: #40CC40; }\n",
       ".datatable .row_index {  background: var(--jp-border-color3);  border-right: 1px solid var(--jp-border-color0);  color: var(--jp-ui-font-color3);  font-size: 9px;}\n",
       ".datatable .frame tbody td { text-align: left; }\n",
       ".datatable .frame tr.coltypes .row_index {  background: var(--jp-border-color0);}\n",
       ".datatable th:nth-child(2) { padding-left: 12px; }\n",
       ".datatable .hellipsis {  color: var(--jp-cell-editor-border-color);}\n",
       ".datatable .vellipsis {  background: var(--jp-layout-color0);  color: var(--jp-cell-editor-border-color);}\n",
       ".datatable .na {  color: var(--jp-cell-editor-border-color);  font-size: 80%;}\n",
       ".datatable .sp {  opacity: 0.25;}\n",
       ".datatable .footer { font-size: 9px; }\n",
       ".datatable .frame_dimensions {  background: var(--jp-border-color3);  border-top: 1px solid var(--jp-border-color0);  color: var(--jp-ui-font-color3);  display: inline-block;  opacity: 0.6;  padding: 1px 10px 1px 5px;}\n",
       "</style>\n"
      ],
      "text/plain": [
       "<IPython.core.display.HTML object>"
      ]
     },
     "metadata": {},
     "output_type": "display_data"
    }
   ],
   "source": [
    "import os\n",
    "import warnings\n",
    "warnings.filterwarnings('ignore')\n",
    "import pandas as pd\n",
    "import numpy as np\n",
    "import matplotlib.pyplot as plt\n",
    "import itertools\n",
    "from statsmodels.tsa.stattools import adfuller, acf, pacf\n",
    "from statsmodels.tsa.arima_model import ARIMA\n",
    "import nltk\n",
    "import re\n",
    "from nltk.corpus import stopwords\n",
    "nltk.download('stopwords')\n",
    "nltk.download('vader_lexicon')\n",
    "from textblob import TextBlob\n",
    "from nltk.sentiment.vader import SentimentIntensityAnalyzer\n",
    "from nltk.stem.porter import PorterStemmer\n",
    "from sklearn.metrics import mean_squared_error\n",
    "from sklearn.model_selection import train_test_split\n",
    "from sklearn.ensemble import RandomForestRegressor\n",
    "import xgboost \n",
    "import lightgbm \n"
   ]
  },
  {
   "cell_type": "markdown",
   "metadata": {},
   "source": [
    "## Load the Textual Data"
   ]
  },
  {
   "cell_type": "code",
   "execution_count": 3,
   "metadata": {
    "execution": {
     "iopub.execute_input": "2022-02-09T00:41:56.652886Z",
     "iopub.status.busy": "2022-02-09T00:41:56.652145Z",
     "iopub.status.idle": "2022-02-09T00:42:02.308178Z",
     "shell.execute_reply": "2022-02-09T00:42:02.307484Z",
     "shell.execute_reply.started": "2022-02-09T00:41:56.652848Z"
    },
    "id": "NN7lqP9eJ8RV",
    "outputId": "16e4b490-c361-4035-c877-aadd8f295219"
   },
   "outputs": [
    {
     "data": {
      "text/html": [
       "<div>\n",
       "<style scoped>\n",
       "    .dataframe tbody tr th:only-of-type {\n",
       "        vertical-align: middle;\n",
       "    }\n",
       "\n",
       "    .dataframe tbody tr th {\n",
       "        vertical-align: top;\n",
       "    }\n",
       "\n",
       "    .dataframe thead th {\n",
       "        text-align: right;\n",
       "    }\n",
       "</style>\n",
       "<table border=\"1\" class=\"dataframe\">\n",
       "  <thead>\n",
       "    <tr style=\"text-align: right;\">\n",
       "      <th></th>\n",
       "      <th>publish_date</th>\n",
       "      <th>headline_category</th>\n",
       "      <th>headline_text</th>\n",
       "    </tr>\n",
       "  </thead>\n",
       "  <tbody>\n",
       "    <tr>\n",
       "      <th>0</th>\n",
       "      <td>20010102</td>\n",
       "      <td>unknown</td>\n",
       "      <td>Status quo will not be disturbed at Ayodhya; s...</td>\n",
       "    </tr>\n",
       "    <tr>\n",
       "      <th>1</th>\n",
       "      <td>20010102</td>\n",
       "      <td>unknown</td>\n",
       "      <td>Fissures in Hurriyat over Pak visit</td>\n",
       "    </tr>\n",
       "    <tr>\n",
       "      <th>2</th>\n",
       "      <td>20010102</td>\n",
       "      <td>unknown</td>\n",
       "      <td>America's unwanted heading for India?</td>\n",
       "    </tr>\n",
       "    <tr>\n",
       "      <th>3</th>\n",
       "      <td>20010102</td>\n",
       "      <td>unknown</td>\n",
       "      <td>For bigwigs; it is destination Goa</td>\n",
       "    </tr>\n",
       "    <tr>\n",
       "      <th>4</th>\n",
       "      <td>20010102</td>\n",
       "      <td>unknown</td>\n",
       "      <td>Extra buses to clear tourist traffic</td>\n",
       "    </tr>\n",
       "  </tbody>\n",
       "</table>\n",
       "</div>"
      ],
      "text/plain": [
       "   publish_date headline_category  \\\n",
       "0      20010102           unknown   \n",
       "1      20010102           unknown   \n",
       "2      20010102           unknown   \n",
       "3      20010102           unknown   \n",
       "4      20010102           unknown   \n",
       "\n",
       "                                       headline_text  \n",
       "0  Status quo will not be disturbed at Ayodhya; s...  \n",
       "1                Fissures in Hurriyat over Pak visit  \n",
       "2              America's unwanted heading for India?  \n",
       "3                 For bigwigs; it is destination Goa  \n",
       "4               Extra buses to clear tourist traffic  "
      ]
     },
     "execution_count": 3,
     "metadata": {},
     "output_type": "execute_result"
    }
   ],
   "source": [
    "df_text = pd.read_csv(\"../input/india-headlines-news-dataset/india-news-headlines.csv\")\n",
    "df_text.head()"
   ]
  },
  {
   "cell_type": "markdown",
   "metadata": {},
   "source": [
    "## Handling with Textual Data:"
   ]
  },
  {
   "cell_type": "code",
   "execution_count": 4,
   "metadata": {
    "execution": {
     "iopub.execute_input": "2022-02-09T00:42:02.310116Z",
     "iopub.status.busy": "2022-02-09T00:42:02.309626Z",
     "iopub.status.idle": "2022-02-09T00:42:02.608083Z",
     "shell.execute_reply": "2022-02-09T00:42:02.607413Z",
     "shell.execute_reply.started": "2022-02-09T00:42:02.310076Z"
    },
    "id": "9v0t8YzwMinA",
    "outputId": "e8d468ff-72e4-4609-8428-db6db8a71239"
   },
   "outputs": [
    {
     "data": {
      "text/html": [
       "<div>\n",
       "<style scoped>\n",
       "    .dataframe tbody tr th:only-of-type {\n",
       "        vertical-align: middle;\n",
       "    }\n",
       "\n",
       "    .dataframe tbody tr th {\n",
       "        vertical-align: top;\n",
       "    }\n",
       "\n",
       "    .dataframe thead th {\n",
       "        text-align: right;\n",
       "    }\n",
       "</style>\n",
       "<table border=\"1\" class=\"dataframe\">\n",
       "  <thead>\n",
       "    <tr style=\"text-align: right;\">\n",
       "      <th></th>\n",
       "      <th>publish_date</th>\n",
       "      <th>headline_text</th>\n",
       "    </tr>\n",
       "  </thead>\n",
       "  <tbody>\n",
       "    <tr>\n",
       "      <th>1</th>\n",
       "      <td>20010102</td>\n",
       "      <td>Fissures in Hurriyat over Pak visit</td>\n",
       "    </tr>\n",
       "    <tr>\n",
       "      <th>2</th>\n",
       "      <td>20010102</td>\n",
       "      <td>America's unwanted heading for India?</td>\n",
       "    </tr>\n",
       "    <tr>\n",
       "      <th>3</th>\n",
       "      <td>20010102</td>\n",
       "      <td>For bigwigs; it is destination Goa</td>\n",
       "    </tr>\n",
       "    <tr>\n",
       "      <th>4</th>\n",
       "      <td>20010102</td>\n",
       "      <td>Extra buses to clear tourist traffic</td>\n",
       "    </tr>\n",
       "    <tr>\n",
       "      <th>5</th>\n",
       "      <td>20010102</td>\n",
       "      <td>Dilute the power of transfers; says Riberio</td>\n",
       "    </tr>\n",
       "  </tbody>\n",
       "</table>\n",
       "</div>"
      ],
      "text/plain": [
       "   publish_date                                headline_text\n",
       "1      20010102          Fissures in Hurriyat over Pak visit\n",
       "2      20010102        America's unwanted heading for India?\n",
       "3      20010102           For bigwigs; it is destination Goa\n",
       "4      20010102         Extra buses to clear tourist traffic\n",
       "5      20010102  Dilute the power of transfers; says Riberio"
      ]
     },
     "execution_count": 4,
     "metadata": {},
     "output_type": "execute_result"
    }
   ],
   "source": [
    "df_text.drop(0, inplace=True)\n",
    "df_text.drop('headline_category', axis = 1, inplace=True)\n",
    "df_text.head()\n",
    "\n"
   ]
  },
  {
   "cell_type": "code",
   "execution_count": 5,
   "metadata": {
    "execution": {
     "iopub.execute_input": "2022-02-09T00:43:08.093102Z",
     "iopub.status.busy": "2022-02-09T00:43:08.092795Z",
     "iopub.status.idle": "2022-02-09T00:43:08.258520Z",
     "shell.execute_reply": "2022-02-09T00:43:08.257604Z",
     "shell.execute_reply.started": "2022-02-09T00:43:08.093067Z"
    },
    "id": "6gYtYR3wPeLX",
    "outputId": "64ae5229-2a89-40e6-949a-b04401d1674a"
   },
   "outputs": [
    {
     "name": "stdout",
     "output_type": "stream",
     "text": [
      "<class 'pandas.core.frame.DataFrame'>\n",
      "Int64Index: 3424066 entries, 1 to 3424066\n",
      "Data columns (total 2 columns):\n",
      " #   Column         Dtype         \n",
      "---  ------         -----         \n",
      " 0   publish_date   datetime64[ns]\n",
      " 1   headline_text  object        \n",
      "dtypes: datetime64[ns](1), object(1)\n",
      "memory usage: 78.4+ MB\n"
     ]
    }
   ],
   "source": [
    "df_text[\"publish_date\"] = pd.to_datetime(df_text[\"publish_date\"],format='%Y%m%d')\n",
    "df_text.info()\n"
   ]
  },
  {
   "cell_type": "code",
   "execution_count": 6,
   "metadata": {
    "execution": {
     "iopub.execute_input": "2022-02-09T00:43:12.506287Z",
     "iopub.status.busy": "2022-02-09T00:43:12.505729Z",
     "iopub.status.idle": "2022-02-09T00:43:12.511744Z",
     "shell.execute_reply": "2022-02-09T00:43:12.510774Z",
     "shell.execute_reply.started": "2022-02-09T00:43:12.506249Z"
    },
    "id": "AYuHiEMBPvQ1",
    "outputId": "a0dd2edb-e9cb-41d4-80ad-f4b60aae0cfe"
   },
   "outputs": [
    {
     "data": {
      "text/plain": [
       "(3424066, 2)"
      ]
     },
     "execution_count": 6,
     "metadata": {},
     "output_type": "execute_result"
    }
   ],
   "source": [
    "df_text.shape"
   ]
  },
  {
   "cell_type": "code",
   "execution_count": 7,
   "metadata": {
    "execution": {
     "iopub.execute_input": "2022-02-09T00:43:14.518508Z",
     "iopub.status.busy": "2022-02-09T00:43:14.517920Z",
     "iopub.status.idle": "2022-02-09T00:43:14.846883Z",
     "shell.execute_reply": "2022-02-09T00:43:14.846042Z",
     "shell.execute_reply.started": "2022-02-09T00:43:14.518470Z"
    },
    "id": "VscFuu5lP38u",
    "outputId": "3b2b8618-3c8c-45a3-978f-409495ed2878"
   },
   "outputs": [
    {
     "data": {
      "text/plain": [
       "publish_date     0\n",
       "headline_text    0\n",
       "dtype: int64"
      ]
     },
     "execution_count": 7,
     "metadata": {},
     "output_type": "execute_result"
    }
   ],
   "source": [
    "df_text.isnull().sum()\n"
   ]
  },
  {
   "cell_type": "code",
   "execution_count": 8,
   "metadata": {
    "execution": {
     "iopub.execute_input": "2022-02-09T00:43:15.785031Z",
     "iopub.status.busy": "2022-02-09T00:43:15.784661Z",
     "iopub.status.idle": "2022-02-09T00:44:57.435624Z",
     "shell.execute_reply": "2022-02-09T00:44:57.434906Z",
     "shell.execute_reply.started": "2022-02-09T00:43:15.784995Z"
    },
    "id": "I7P8hzuEz4-l",
    "outputId": "8e2aa6b3-3a14-4b9b-da4c-5cea38c27727"
   },
   "outputs": [
    {
     "data": {
      "text/plain": [
       "7262"
      ]
     },
     "execution_count": 8,
     "metadata": {},
     "output_type": "execute_result"
    }
   ],
   "source": [
    "df_text['headline_text'] = df_text.groupby(['publish_date']).transform(lambda x : ' '.join(x)) \n",
    "df_text = df_text.drop_duplicates() \n",
    "len(df_text)"
   ]
  },
  {
   "cell_type": "code",
   "execution_count": 9,
   "metadata": {
    "execution": {
     "iopub.execute_input": "2022-02-09T00:44:57.437899Z",
     "iopub.status.busy": "2022-02-09T00:44:57.437127Z",
     "iopub.status.idle": "2022-02-09T00:44:57.450763Z",
     "shell.execute_reply": "2022-02-09T00:44:57.450045Z",
     "shell.execute_reply.started": "2022-02-09T00:44:57.437857Z"
    },
    "id": "XNHtIq-Y_vqv",
    "outputId": "eeb52d7c-010a-47d7-d803-efafe374a4d1"
   },
   "outputs": [
    {
     "data": {
      "text/html": [
       "<div>\n",
       "<style scoped>\n",
       "    .dataframe tbody tr th:only-of-type {\n",
       "        vertical-align: middle;\n",
       "    }\n",
       "\n",
       "    .dataframe tbody tr th {\n",
       "        vertical-align: top;\n",
       "    }\n",
       "\n",
       "    .dataframe thead th {\n",
       "        text-align: right;\n",
       "    }\n",
       "</style>\n",
       "<table border=\"1\" class=\"dataframe\">\n",
       "  <thead>\n",
       "    <tr style=\"text-align: right;\">\n",
       "      <th></th>\n",
       "      <th>publish_date</th>\n",
       "      <th>headline_text</th>\n",
       "    </tr>\n",
       "  </thead>\n",
       "  <tbody>\n",
       "    <tr>\n",
       "      <th>1</th>\n",
       "      <td>2001-01-02</td>\n",
       "      <td>Fissures in Hurriyat over Pak visit America's ...</td>\n",
       "    </tr>\n",
       "    <tr>\n",
       "      <th>86</th>\n",
       "      <td>2001-01-03</td>\n",
       "      <td>Powerless north India gropes in the dark Think...</td>\n",
       "    </tr>\n",
       "    <tr>\n",
       "      <th>127</th>\n",
       "      <td>2001-01-04</td>\n",
       "      <td>The string that pulled Stephen Hawking to Indi...</td>\n",
       "    </tr>\n",
       "    <tr>\n",
       "      <th>280</th>\n",
       "      <td>2001-01-05</td>\n",
       "      <td>Light combat craft takes India into club class...</td>\n",
       "    </tr>\n",
       "    <tr>\n",
       "      <th>406</th>\n",
       "      <td>2001-01-06</td>\n",
       "      <td>Light combat craft takes India into club class...</td>\n",
       "    </tr>\n",
       "    <tr>\n",
       "      <th>...</th>\n",
       "      <td>...</td>\n",
       "      <td>...</td>\n",
       "    </tr>\n",
       "    <tr>\n",
       "      <th>3421573</th>\n",
       "      <td>2020-12-27</td>\n",
       "      <td>#BigInterview! Dhritiman Chatterjee: Nobody da...</td>\n",
       "    </tr>\n",
       "    <tr>\n",
       "      <th>3422072</th>\n",
       "      <td>2020-12-28</td>\n",
       "      <td>Horoscope Today; 28 December 2020: Check astro...</td>\n",
       "    </tr>\n",
       "    <tr>\n",
       "      <th>3422570</th>\n",
       "      <td>2020-12-29</td>\n",
       "      <td>Man recovers charred remains of 'thief' from h...</td>\n",
       "    </tr>\n",
       "    <tr>\n",
       "      <th>3423069</th>\n",
       "      <td>2020-12-30</td>\n",
       "      <td>Numerology Readings 30 December 2020: Predicti...</td>\n",
       "    </tr>\n",
       "    <tr>\n",
       "      <th>3423569</th>\n",
       "      <td>2020-12-31</td>\n",
       "      <td>Horoscope Today; 31 December 2020: Check astro...</td>\n",
       "    </tr>\n",
       "  </tbody>\n",
       "</table>\n",
       "<p>7262 rows × 2 columns</p>\n",
       "</div>"
      ],
      "text/plain": [
       "        publish_date                                      headline_text\n",
       "1         2001-01-02  Fissures in Hurriyat over Pak visit America's ...\n",
       "86        2001-01-03  Powerless north India gropes in the dark Think...\n",
       "127       2001-01-04  The string that pulled Stephen Hawking to Indi...\n",
       "280       2001-01-05  Light combat craft takes India into club class...\n",
       "406       2001-01-06  Light combat craft takes India into club class...\n",
       "...              ...                                                ...\n",
       "3421573   2020-12-27  #BigInterview! Dhritiman Chatterjee: Nobody da...\n",
       "3422072   2020-12-28  Horoscope Today; 28 December 2020: Check astro...\n",
       "3422570   2020-12-29  Man recovers charred remains of 'thief' from h...\n",
       "3423069   2020-12-30  Numerology Readings 30 December 2020: Predicti...\n",
       "3423569   2020-12-31  Horoscope Today; 31 December 2020: Check astro...\n",
       "\n",
       "[7262 rows x 2 columns]"
      ]
     },
     "execution_count": 9,
     "metadata": {},
     "output_type": "execute_result"
    }
   ],
   "source": [
    "df_text"
   ]
  },
  {
   "cell_type": "code",
   "execution_count": 10,
   "metadata": {
    "execution": {
     "iopub.execute_input": "2022-02-09T00:45:57.335012Z",
     "iopub.status.busy": "2022-02-09T00:45:57.334589Z",
     "iopub.status.idle": "2022-02-09T00:45:57.339692Z",
     "shell.execute_reply": "2022-02-09T00:45:57.338194Z",
     "shell.execute_reply.started": "2022-02-09T00:45:57.334973Z"
    },
    "id": "_Rfx1G67_1R5"
   },
   "outputs": [],
   "source": [
    "df_text.reset_index(inplace=True,drop=True)\n"
   ]
  },
  {
   "cell_type": "markdown",
   "metadata": {
    "id": "KCCyxonL0Zhx"
   },
   "source": [
    "#### Remove Unwanted Characters from the head_line text\n"
   ]
  },
  {
   "cell_type": "code",
   "execution_count": 11,
   "metadata": {
    "execution": {
     "iopub.execute_input": "2022-02-09T00:45:59.031351Z",
     "iopub.status.busy": "2022-02-09T00:45:59.030917Z",
     "iopub.status.idle": "2022-02-09T00:46:09.234821Z",
     "shell.execute_reply": "2022-02-09T00:46:09.234072Z",
     "shell.execute_reply.started": "2022-02-09T00:45:59.031318Z"
    },
    "id": "62c0oM9P0e_W",
    "outputId": "ca541cbc-c79d-433b-8e65-50dc7a0e2f0a"
   },
   "outputs": [
    {
     "data": {
      "text/plain": [
       "0    Fissures in Hurriyat over Pak visit America's ...\n",
       "1    Powerless north India gropes in the dark Think...\n",
       "2    The string that pulled Stephen Hawking to Indi...\n",
       "3    Light combat craft takes India into club class...\n",
       "4    Light combat craft takes India into club class...\n",
       "Name: headline_text, dtype: object"
      ]
     },
     "execution_count": 11,
     "metadata": {},
     "output_type": "execute_result"
    }
   ],
   "source": [
    "df_text.replace(\"[^a-zA-Z']\",\" \",regex=True,inplace=True)\n",
    "df_text[\"headline_text\"].head(5)\n"
   ]
  },
  {
   "cell_type": "code",
   "execution_count": 12,
   "metadata": {
    "execution": {
     "iopub.execute_input": "2022-02-09T00:46:14.300455Z",
     "iopub.status.busy": "2022-02-09T00:46:14.300063Z",
     "iopub.status.idle": "2022-02-09T00:51:11.264800Z",
     "shell.execute_reply": "2022-02-09T00:51:11.264063Z",
     "shell.execute_reply.started": "2022-02-09T00:46:14.300421Z"
    },
    "id": "KAEkHC8H1IWb",
    "outputId": "8209bc04-c740-451b-fbb8-bb1ad475247c"
   },
   "outputs": [
    {
     "data": {
      "text/html": [
       "<div>\n",
       "<style scoped>\n",
       "    .dataframe tbody tr th:only-of-type {\n",
       "        vertical-align: middle;\n",
       "    }\n",
       "\n",
       "    .dataframe tbody tr th {\n",
       "        vertical-align: top;\n",
       "    }\n",
       "\n",
       "    .dataframe thead th {\n",
       "        text-align: right;\n",
       "    }\n",
       "</style>\n",
       "<table border=\"1\" class=\"dataframe\">\n",
       "  <thead>\n",
       "    <tr style=\"text-align: right;\">\n",
       "      <th></th>\n",
       "      <th>publish_date</th>\n",
       "      <th>headline_text</th>\n",
       "      <th>Subjectivity</th>\n",
       "      <th>Polarity</th>\n",
       "    </tr>\n",
       "  </thead>\n",
       "  <tbody>\n",
       "    <tr>\n",
       "      <th>0</th>\n",
       "      <td>2001-01-02</td>\n",
       "      <td>Fissures in Hurriyat over Pak visit America's ...</td>\n",
       "      <td>0.286859</td>\n",
       "      <td>0.143590</td>\n",
       "    </tr>\n",
       "    <tr>\n",
       "      <th>1</th>\n",
       "      <td>2001-01-03</td>\n",
       "      <td>Powerless north India gropes in the dark Think...</td>\n",
       "      <td>0.392857</td>\n",
       "      <td>0.089286</td>\n",
       "    </tr>\n",
       "    <tr>\n",
       "      <th>2</th>\n",
       "      <td>2001-01-04</td>\n",
       "      <td>The string that pulled Stephen Hawking to Indi...</td>\n",
       "      <td>0.445360</td>\n",
       "      <td>0.093039</td>\n",
       "    </tr>\n",
       "    <tr>\n",
       "      <th>3</th>\n",
       "      <td>2001-01-05</td>\n",
       "      <td>Light combat craft takes India into club class...</td>\n",
       "      <td>0.480553</td>\n",
       "      <td>0.264024</td>\n",
       "    </tr>\n",
       "    <tr>\n",
       "      <th>4</th>\n",
       "      <td>2001-01-06</td>\n",
       "      <td>Light combat craft takes India into club class...</td>\n",
       "      <td>0.439394</td>\n",
       "      <td>0.248485</td>\n",
       "    </tr>\n",
       "    <tr>\n",
       "      <th>...</th>\n",
       "      <td>...</td>\n",
       "      <td>...</td>\n",
       "      <td>...</td>\n",
       "      <td>...</td>\n",
       "    </tr>\n",
       "    <tr>\n",
       "      <th>7257</th>\n",
       "      <td>2020-12-27</td>\n",
       "      <td>BigInterview  Dhritiman Chatterjee  Nobody da...</td>\n",
       "      <td>0.392082</td>\n",
       "      <td>0.042978</td>\n",
       "    </tr>\n",
       "    <tr>\n",
       "      <th>7258</th>\n",
       "      <td>2020-12-28</td>\n",
       "      <td>Horoscope Today     December       Check astro...</td>\n",
       "      <td>0.409973</td>\n",
       "      <td>0.071405</td>\n",
       "    </tr>\n",
       "    <tr>\n",
       "      <th>7259</th>\n",
       "      <td>2020-12-29</td>\n",
       "      <td>Man recovers charred remains of 'thief' from h...</td>\n",
       "      <td>0.415684</td>\n",
       "      <td>0.060775</td>\n",
       "    </tr>\n",
       "    <tr>\n",
       "      <th>7260</th>\n",
       "      <td>2020-12-30</td>\n",
       "      <td>Numerology Readings    December       Predicti...</td>\n",
       "      <td>0.436863</td>\n",
       "      <td>0.046930</td>\n",
       "    </tr>\n",
       "    <tr>\n",
       "      <th>7261</th>\n",
       "      <td>2020-12-31</td>\n",
       "      <td>Horoscope Today     December       Check astro...</td>\n",
       "      <td>0.408454</td>\n",
       "      <td>0.091829</td>\n",
       "    </tr>\n",
       "  </tbody>\n",
       "</table>\n",
       "<p>7262 rows × 4 columns</p>\n",
       "</div>"
      ],
      "text/plain": [
       "     publish_date                                      headline_text  \\\n",
       "0      2001-01-02  Fissures in Hurriyat over Pak visit America's ...   \n",
       "1      2001-01-03  Powerless north India gropes in the dark Think...   \n",
       "2      2001-01-04  The string that pulled Stephen Hawking to Indi...   \n",
       "3      2001-01-05  Light combat craft takes India into club class...   \n",
       "4      2001-01-06  Light combat craft takes India into club class...   \n",
       "...           ...                                                ...   \n",
       "7257   2020-12-27   BigInterview  Dhritiman Chatterjee  Nobody da...   \n",
       "7258   2020-12-28  Horoscope Today     December       Check astro...   \n",
       "7259   2020-12-29  Man recovers charred remains of 'thief' from h...   \n",
       "7260   2020-12-30  Numerology Readings    December       Predicti...   \n",
       "7261   2020-12-31  Horoscope Today     December       Check astro...   \n",
       "\n",
       "      Subjectivity  Polarity  \n",
       "0         0.286859  0.143590  \n",
       "1         0.392857  0.089286  \n",
       "2         0.445360  0.093039  \n",
       "3         0.480553  0.264024  \n",
       "4         0.439394  0.248485  \n",
       "...            ...       ...  \n",
       "7257      0.392082  0.042978  \n",
       "7258      0.409973  0.071405  \n",
       "7259      0.415684  0.060775  \n",
       "7260      0.436863  0.046930  \n",
       "7261      0.408454  0.091829  \n",
       "\n",
       "[7262 rows x 4 columns]"
      ]
     },
     "execution_count": 12,
     "metadata": {},
     "output_type": "execute_result"
    }
   ],
   "source": [
    "def Subjectivity(text):\n",
    "  return TextBlob(text).sentiment.subjectivity\n",
    "\n",
    "def Polarity(text):\n",
    "  return  TextBlob(text).sentiment.polarity\n",
    "\n",
    "df_text['Subjectivity'] = df_text['headline_text'].apply(Subjectivity)\n",
    "df_text['Polarity'] = df_text['headline_text'].apply(Polarity)\n",
    "df_text\n",
    "\n"
   ]
  },
  {
   "cell_type": "markdown",
   "metadata": {
    "id": "v254xqY5FW2E"
   },
   "source": [
    "### Visualize a Polarity and Subjectivity\n"
   ]
  },
  {
   "cell_type": "code",
   "execution_count": 13,
   "metadata": {
    "execution": {
     "iopub.execute_input": "2022-02-09T00:51:11.266814Z",
     "iopub.status.busy": "2022-02-09T00:51:11.266549Z",
     "iopub.status.idle": "2022-02-09T00:51:11.494710Z",
     "shell.execute_reply": "2022-02-09T00:51:11.494029Z",
     "shell.execute_reply.started": "2022-02-09T00:51:11.266779Z"
    },
    "id": "o7TcJLcvFbpX",
    "outputId": "99e46a4b-89e4-4d93-e901-6f97e1e4c035"
   },
   "outputs": [
    {
     "data": {
      "text/plain": [
       "<AxesSubplot:>"
      ]
     },
     "execution_count": 13,
     "metadata": {},
     "output_type": "execute_result"
    },
    {
     "data": {
      "image/png": "[encoded data removed]",
      "text/plain": [
       "<Figure size 720x432 with 1 Axes>"
      ]
     },
     "metadata": {
      "needs_background": "light"
     },
     "output_type": "display_data"
    }
   ],
   "source": [
    "plt.figure(figsize = (10,6))\n",
    "df_text['Polarity'].hist(color = 'green')\n"
   ]
  },
  {
   "cell_type": "code",
   "execution_count": 14,
   "metadata": {
    "execution": {
     "iopub.execute_input": "2022-02-09T00:51:11.496592Z",
     "iopub.status.busy": "2022-02-09T00:51:11.496126Z",
     "iopub.status.idle": "2022-02-09T00:51:11.788021Z",
     "shell.execute_reply": "2022-02-09T00:51:11.787077Z",
     "shell.execute_reply.started": "2022-02-09T00:51:11.496553Z"
    },
    "id": "V2UTR3yjFEy-",
    "outputId": "a19ddd16-109e-4018-efe8-f91631898fe9"
   },
   "outputs": [
    {
     "data": {
      "text/plain": [
       "<AxesSubplot:>"
      ]
     },
     "execution_count": 14,
     "metadata": {},
     "output_type": "execute_result"
    },
    {
     "data": {
      "image/png": "[encoded data removed]",
      "text/plain": [
       "<Figure size 720x432 with 1 Axes>"
      ]
     },
     "metadata": {
      "needs_background": "light"
     },
     "output_type": "display_data"
    }
   ],
   "source": [
    "plt.figure(figsize = (10,6))\n",
    "df_text['Subjectivity'].hist(color = 'blue')\n"
   ]
  },
  {
   "cell_type": "markdown",
   "metadata": {
    "id": "MOkCyXdsGJNF"
   },
   "source": [
    "### Sentiment Analysis using News Headlines\n",
    "\n",
    "\n"
   ]
  },
  {
   "cell_type": "code",
   "execution_count": 15,
   "metadata": {
    "execution": {
     "iopub.execute_input": "2022-02-09T00:53:38.611173Z",
     "iopub.status.busy": "2022-02-09T00:53:38.610698Z",
     "iopub.status.idle": "2022-02-09T00:53:38.640038Z",
     "shell.execute_reply": "2022-02-09T00:53:38.639270Z",
     "shell.execute_reply.started": "2022-02-09T00:53:38.611125Z"
    },
    "id": "fKsHkPlGYLSF"
   },
   "outputs": [],
   "source": [
    "snt = SentimentIntensityAnalyzer()\n",
    "\n"
   ]
  },
  {
   "cell_type": "code",
   "execution_count": 16,
   "metadata": {
    "execution": {
     "iopub.execute_input": "2022-02-09T00:53:40.473288Z",
     "iopub.status.busy": "2022-02-09T00:53:40.472802Z",
     "iopub.status.idle": "2022-02-09T02:00:22.343079Z",
     "shell.execute_reply": "2022-02-09T02:00:22.342339Z",
     "shell.execute_reply.started": "2022-02-09T00:53:40.473253Z"
    },
    "id": "IK-ogBC3da6t",
    "outputId": "911ab907-de76-4981-e862-6796bee9369e"
   },
   "outputs": [
    {
     "data": {
      "text/html": [
       "<div>\n",
       "<style scoped>\n",
       "    .dataframe tbody tr th:only-of-type {\n",
       "        vertical-align: middle;\n",
       "    }\n",
       "\n",
       "    .dataframe tbody tr th {\n",
       "        vertical-align: top;\n",
       "    }\n",
       "\n",
       "    .dataframe thead th {\n",
       "        text-align: right;\n",
       "    }\n",
       "</style>\n",
       "<table border=\"1\" class=\"dataframe\">\n",
       "  <thead>\n",
       "    <tr style=\"text-align: right;\">\n",
       "      <th></th>\n",
       "      <th>publish_date</th>\n",
       "      <th>headline_text</th>\n",
       "      <th>Subjectivity</th>\n",
       "      <th>Polarity</th>\n",
       "      <th>Compound</th>\n",
       "      <th>Negative</th>\n",
       "      <th>Neutral</th>\n",
       "      <th>Positive</th>\n",
       "    </tr>\n",
       "  </thead>\n",
       "  <tbody>\n",
       "    <tr>\n",
       "      <th>0</th>\n",
       "      <td>2001-01-02</td>\n",
       "      <td>Fissures in Hurriyat over Pak visit America's ...</td>\n",
       "      <td>0.286859</td>\n",
       "      <td>0.143590</td>\n",
       "      <td>-0.9804</td>\n",
       "      <td>0.123</td>\n",
       "      <td>0.808</td>\n",
       "      <td>0.069</td>\n",
       "    </tr>\n",
       "    <tr>\n",
       "      <th>1</th>\n",
       "      <td>2001-01-03</td>\n",
       "      <td>Powerless north India gropes in the dark Think...</td>\n",
       "      <td>0.392857</td>\n",
       "      <td>0.089286</td>\n",
       "      <td>-0.8910</td>\n",
       "      <td>0.156</td>\n",
       "      <td>0.735</td>\n",
       "      <td>0.109</td>\n",
       "    </tr>\n",
       "    <tr>\n",
       "      <th>2</th>\n",
       "      <td>2001-01-04</td>\n",
       "      <td>The string that pulled Stephen Hawking to Indi...</td>\n",
       "      <td>0.445360</td>\n",
       "      <td>0.093039</td>\n",
       "      <td>0.7543</td>\n",
       "      <td>0.104</td>\n",
       "      <td>0.792</td>\n",
       "      <td>0.104</td>\n",
       "    </tr>\n",
       "    <tr>\n",
       "      <th>3</th>\n",
       "      <td>2001-01-05</td>\n",
       "      <td>Light combat craft takes India into club class...</td>\n",
       "      <td>0.480553</td>\n",
       "      <td>0.264024</td>\n",
       "      <td>0.9365</td>\n",
       "      <td>0.142</td>\n",
       "      <td>0.696</td>\n",
       "      <td>0.161</td>\n",
       "    </tr>\n",
       "    <tr>\n",
       "      <th>4</th>\n",
       "      <td>2001-01-06</td>\n",
       "      <td>Light combat craft takes India into club class...</td>\n",
       "      <td>0.439394</td>\n",
       "      <td>0.248485</td>\n",
       "      <td>-0.8316</td>\n",
       "      <td>0.214</td>\n",
       "      <td>0.655</td>\n",
       "      <td>0.131</td>\n",
       "    </tr>\n",
       "    <tr>\n",
       "      <th>...</th>\n",
       "      <td>...</td>\n",
       "      <td>...</td>\n",
       "      <td>...</td>\n",
       "      <td>...</td>\n",
       "      <td>...</td>\n",
       "      <td>...</td>\n",
       "      <td>...</td>\n",
       "      <td>...</td>\n",
       "    </tr>\n",
       "    <tr>\n",
       "      <th>7257</th>\n",
       "      <td>2020-12-27</td>\n",
       "      <td>BigInterview  Dhritiman Chatterjee  Nobody da...</td>\n",
       "      <td>0.392082</td>\n",
       "      <td>0.042978</td>\n",
       "      <td>-0.9997</td>\n",
       "      <td>0.129</td>\n",
       "      <td>0.793</td>\n",
       "      <td>0.079</td>\n",
       "    </tr>\n",
       "    <tr>\n",
       "      <th>7258</th>\n",
       "      <td>2020-12-28</td>\n",
       "      <td>Horoscope Today     December       Check astro...</td>\n",
       "      <td>0.409973</td>\n",
       "      <td>0.071405</td>\n",
       "      <td>-0.9998</td>\n",
       "      <td>0.142</td>\n",
       "      <td>0.761</td>\n",
       "      <td>0.097</td>\n",
       "    </tr>\n",
       "    <tr>\n",
       "      <th>7259</th>\n",
       "      <td>2020-12-29</td>\n",
       "      <td>Man recovers charred remains of 'thief' from h...</td>\n",
       "      <td>0.415684</td>\n",
       "      <td>0.060775</td>\n",
       "      <td>-0.9999</td>\n",
       "      <td>0.151</td>\n",
       "      <td>0.753</td>\n",
       "      <td>0.096</td>\n",
       "    </tr>\n",
       "    <tr>\n",
       "      <th>7260</th>\n",
       "      <td>2020-12-30</td>\n",
       "      <td>Numerology Readings    December       Predicti...</td>\n",
       "      <td>0.436863</td>\n",
       "      <td>0.046930</td>\n",
       "      <td>-0.9999</td>\n",
       "      <td>0.146</td>\n",
       "      <td>0.770</td>\n",
       "      <td>0.084</td>\n",
       "    </tr>\n",
       "    <tr>\n",
       "      <th>7261</th>\n",
       "      <td>2020-12-31</td>\n",
       "      <td>Horoscope Today     December       Check astro...</td>\n",
       "      <td>0.408454</td>\n",
       "      <td>0.091829</td>\n",
       "      <td>-0.9998</td>\n",
       "      <td>0.141</td>\n",
       "      <td>0.759</td>\n",
       "      <td>0.100</td>\n",
       "    </tr>\n",
       "  </tbody>\n",
       "</table>\n",
       "<p>7262 rows × 8 columns</p>\n",
       "</div>"
      ],
      "text/plain": [
       "     publish_date                                      headline_text  \\\n",
       "0      2001-01-02  Fissures in Hurriyat over Pak visit America's ...   \n",
       "1      2001-01-03  Powerless north India gropes in the dark Think...   \n",
       "2      2001-01-04  The string that pulled Stephen Hawking to Indi...   \n",
       "3      2001-01-05  Light combat craft takes India into club class...   \n",
       "4      2001-01-06  Light combat craft takes India into club class...   \n",
       "...           ...                                                ...   \n",
       "7257   2020-12-27   BigInterview  Dhritiman Chatterjee  Nobody da...   \n",
       "7258   2020-12-28  Horoscope Today     December       Check astro...   \n",
       "7259   2020-12-29  Man recovers charred remains of 'thief' from h...   \n",
       "7260   2020-12-30  Numerology Readings    December       Predicti...   \n",
       "7261   2020-12-31  Horoscope Today     December       Check astro...   \n",
       "\n",
       "      Subjectivity  Polarity  Compound  Negative  Neutral  Positive  \n",
       "0         0.286859  0.143590   -0.9804     0.123    0.808     0.069  \n",
       "1         0.392857  0.089286   -0.8910     0.156    0.735     0.109  \n",
       "2         0.445360  0.093039    0.7543     0.104    0.792     0.104  \n",
       "3         0.480553  0.264024    0.9365     0.142    0.696     0.161  \n",
       "4         0.439394  0.248485   -0.8316     0.214    0.655     0.131  \n",
       "...            ...       ...       ...       ...      ...       ...  \n",
       "7257      0.392082  0.042978   -0.9997     0.129    0.793     0.079  \n",
       "7258      0.409973  0.071405   -0.9998     0.142    0.761     0.097  \n",
       "7259      0.415684  0.060775   -0.9999     0.151    0.753     0.096  \n",
       "7260      0.436863  0.046930   -0.9999     0.146    0.770     0.084  \n",
       "7261      0.408454  0.091829   -0.9998     0.141    0.759     0.100  \n",
       "\n",
       "[7262 rows x 8 columns]"
      ]
     },
     "execution_count": 16,
     "metadata": {},
     "output_type": "execute_result"
    }
   ],
   "source": [
    "df_text['Compound'] = [snt.polarity_scores(v)['compound'] for v in df_text['headline_text']]\n",
    "df_text['Negative'] = [snt.polarity_scores(v)['neg'] for v in df_text['headline_text']]\n",
    "df_text['Neutral'] = [snt.polarity_scores(v)['neu'] for v in df_text['headline_text']]\n",
    "df_text['Positive'] = [snt.polarity_scores(v)['pos'] for v in df_text['headline_text']]\n",
    "df_text\n"
   ]
  },
  {
   "cell_type": "markdown",
   "metadata": {
    "id": "dd00Ls9W1E-o"
   },
   "source": [
    "## Load the Numerical Data "
   ]
  },
  {
   "cell_type": "code",
   "execution_count": 17,
   "metadata": {
    "execution": {
     "iopub.execute_input": "2022-02-09T02:02:56.131760Z",
     "iopub.status.busy": "2022-02-09T02:02:56.131157Z",
     "iopub.status.idle": "2022-02-09T02:02:56.161487Z",
     "shell.execute_reply": "2022-02-09T02:02:56.160769Z",
     "shell.execute_reply.started": "2022-02-09T02:02:56.131721Z"
    },
    "id": "bL_HUWhi1HyV",
    "outputId": "93317b6b-9909-4ef5-c896-a6f286501f17"
   },
   "outputs": [
    {
     "data": {
      "text/html": [
       "<div>\n",
       "<style scoped>\n",
       "    .dataframe tbody tr th:only-of-type {\n",
       "        vertical-align: middle;\n",
       "    }\n",
       "\n",
       "    .dataframe tbody tr th {\n",
       "        vertical-align: top;\n",
       "    }\n",
       "\n",
       "    .dataframe thead th {\n",
       "        text-align: right;\n",
       "    }\n",
       "</style>\n",
       "<table border=\"1\" class=\"dataframe\">\n",
       "  <thead>\n",
       "    <tr style=\"text-align: right;\">\n",
       "      <th></th>\n",
       "      <th>Date</th>\n",
       "      <th>Open</th>\n",
       "      <th>High</th>\n",
       "      <th>Low</th>\n",
       "      <th>Close</th>\n",
       "      <th>Adj Close</th>\n",
       "      <th>Volume</th>\n",
       "    </tr>\n",
       "  </thead>\n",
       "  <tbody>\n",
       "    <tr>\n",
       "      <th>0</th>\n",
       "      <td>2021-02-08</td>\n",
       "      <td>0.20</td>\n",
       "      <td>0.22</td>\n",
       "      <td>0.19</td>\n",
       "      <td>0.19</td>\n",
       "      <td>0.19</td>\n",
       "      <td>70200</td>\n",
       "    </tr>\n",
       "    <tr>\n",
       "      <th>1</th>\n",
       "      <td>2021-02-09</td>\n",
       "      <td>0.19</td>\n",
       "      <td>0.21</td>\n",
       "      <td>0.19</td>\n",
       "      <td>0.19</td>\n",
       "      <td>0.19</td>\n",
       "      <td>51600</td>\n",
       "    </tr>\n",
       "    <tr>\n",
       "      <th>2</th>\n",
       "      <td>2021-02-10</td>\n",
       "      <td>0.39</td>\n",
       "      <td>0.40</td>\n",
       "      <td>0.24</td>\n",
       "      <td>0.27</td>\n",
       "      <td>0.27</td>\n",
       "      <td>4710100</td>\n",
       "    </tr>\n",
       "    <tr>\n",
       "      <th>3</th>\n",
       "      <td>2021-02-11</td>\n",
       "      <td>0.28</td>\n",
       "      <td>0.32</td>\n",
       "      <td>0.27</td>\n",
       "      <td>0.28</td>\n",
       "      <td>0.28</td>\n",
       "      <td>795700</td>\n",
       "    </tr>\n",
       "    <tr>\n",
       "      <th>4</th>\n",
       "      <td>2021-02-12</td>\n",
       "      <td>0.27</td>\n",
       "      <td>0.28</td>\n",
       "      <td>0.21</td>\n",
       "      <td>0.22</td>\n",
       "      <td>0.22</td>\n",
       "      <td>595600</td>\n",
       "    </tr>\n",
       "  </tbody>\n",
       "</table>\n",
       "</div>"
      ],
      "text/plain": [
       "         Date  Open  High   Low  Close  Adj Close   Volume\n",
       "0  2021-02-08  0.20  0.22  0.19   0.19       0.19    70200\n",
       "1  2021-02-09  0.19  0.21  0.19   0.19       0.19    51600\n",
       "2  2021-02-10  0.39  0.40  0.24   0.27       0.27  4710100\n",
       "3  2021-02-11  0.28  0.32  0.27   0.28       0.28   795700\n",
       "4  2021-02-12  0.27  0.28  0.21   0.22       0.22   595600"
      ]
     },
     "execution_count": 17,
     "metadata": {},
     "output_type": "execute_result"
    }
   ],
   "source": [
    "df_num = pd.read_csv(\"../input/numerical-stock-prices/QMCI.csv\")\n",
    "df_num.head()\n"
   ]
  },
  {
   "cell_type": "markdown",
   "metadata": {},
   "source": [
    "## Handling with Numerical Data"
   ]
  },
  {
   "cell_type": "markdown",
   "metadata": {
    "id": "9-Rx7SHfxi3_"
   },
   "source": [
    "All the things that are going to happen in this data must be related to time to this index."
   ]
  },
  {
   "cell_type": "code",
   "execution_count": 18,
   "metadata": {
    "execution": {
     "iopub.execute_input": "2022-02-09T02:03:00.000590Z",
     "iopub.status.busy": "2022-02-09T02:03:00.000046Z",
     "iopub.status.idle": "2022-02-09T02:03:00.014222Z",
     "shell.execute_reply": "2022-02-09T02:03:00.013456Z",
     "shell.execute_reply.started": "2022-02-09T02:03:00.000551Z"
    },
    "id": "IXltUEUSE3tl",
    "outputId": "b555800a-c126-43f0-821a-ebd3102e60a9"
   },
   "outputs": [
    {
     "name": "stdout",
     "output_type": "stream",
     "text": [
      "<class 'pandas.core.frame.DataFrame'>\n",
      "RangeIndex: 252 entries, 0 to 251\n",
      "Data columns (total 7 columns):\n",
      " #   Column     Non-Null Count  Dtype         \n",
      "---  ------     --------------  -----         \n",
      " 0   Date       252 non-null    datetime64[ns]\n",
      " 1   Open       252 non-null    float64       \n",
      " 2   High       252 non-null    float64       \n",
      " 3   Low        252 non-null    float64       \n",
      " 4   Close      252 non-null    float64       \n",
      " 5   Adj Close  252 non-null    float64       \n",
      " 6   Volume     252 non-null    int64         \n",
      "dtypes: datetime64[ns](1), float64(5), int64(1)\n",
      "memory usage: 13.9 KB\n"
     ]
    }
   ],
   "source": [
    "df_num[\"Date\"] = pd.to_datetime(df_num[\"Date\"],format='%Y-%m-%d')\n",
    "df_num.info()\n"
   ]
  },
  {
   "cell_type": "markdown",
   "metadata": {
    "id": "lYofYVHQyiEo"
   },
   "source": [
    "Let's see how the data will be like:"
   ]
  },
  {
   "cell_type": "code",
   "execution_count": 19,
   "metadata": {
    "execution": {
     "iopub.execute_input": "2022-02-09T02:03:04.239185Z",
     "iopub.status.busy": "2022-02-09T02:03:04.238939Z",
     "iopub.status.idle": "2022-02-09T02:03:04.256531Z",
     "shell.execute_reply": "2022-02-09T02:03:04.255840Z",
     "shell.execute_reply.started": "2022-02-09T02:03:04.239157Z"
    },
    "id": "lkpJvWwi13AP",
    "outputId": "ff5b1f66-7dcc-461e-deac-586a156901be"
   },
   "outputs": [
    {
     "data": {
      "text/html": [
       "<div>\n",
       "<style scoped>\n",
       "    .dataframe tbody tr th:only-of-type {\n",
       "        vertical-align: middle;\n",
       "    }\n",
       "\n",
       "    .dataframe tbody tr th {\n",
       "        vertical-align: top;\n",
       "    }\n",
       "\n",
       "    .dataframe thead th {\n",
       "        text-align: right;\n",
       "    }\n",
       "</style>\n",
       "<table border=\"1\" class=\"dataframe\">\n",
       "  <thead>\n",
       "    <tr style=\"text-align: right;\">\n",
       "      <th></th>\n",
       "      <th>Date</th>\n",
       "      <th>Open</th>\n",
       "      <th>High</th>\n",
       "      <th>Low</th>\n",
       "      <th>Close</th>\n",
       "      <th>Adj Close</th>\n",
       "      <th>Volume</th>\n",
       "    </tr>\n",
       "  </thead>\n",
       "  <tbody>\n",
       "    <tr>\n",
       "      <th>0</th>\n",
       "      <td>2021-02-08</td>\n",
       "      <td>0.20</td>\n",
       "      <td>0.22</td>\n",
       "      <td>0.19</td>\n",
       "      <td>0.19</td>\n",
       "      <td>0.19</td>\n",
       "      <td>70200</td>\n",
       "    </tr>\n",
       "    <tr>\n",
       "      <th>1</th>\n",
       "      <td>2021-02-09</td>\n",
       "      <td>0.19</td>\n",
       "      <td>0.21</td>\n",
       "      <td>0.19</td>\n",
       "      <td>0.19</td>\n",
       "      <td>0.19</td>\n",
       "      <td>51600</td>\n",
       "    </tr>\n",
       "    <tr>\n",
       "      <th>2</th>\n",
       "      <td>2021-02-10</td>\n",
       "      <td>0.39</td>\n",
       "      <td>0.40</td>\n",
       "      <td>0.24</td>\n",
       "      <td>0.27</td>\n",
       "      <td>0.27</td>\n",
       "      <td>4710100</td>\n",
       "    </tr>\n",
       "    <tr>\n",
       "      <th>3</th>\n",
       "      <td>2021-02-11</td>\n",
       "      <td>0.28</td>\n",
       "      <td>0.32</td>\n",
       "      <td>0.27</td>\n",
       "      <td>0.28</td>\n",
       "      <td>0.28</td>\n",
       "      <td>795700</td>\n",
       "    </tr>\n",
       "    <tr>\n",
       "      <th>4</th>\n",
       "      <td>2021-02-12</td>\n",
       "      <td>0.27</td>\n",
       "      <td>0.28</td>\n",
       "      <td>0.21</td>\n",
       "      <td>0.22</td>\n",
       "      <td>0.22</td>\n",
       "      <td>595600</td>\n",
       "    </tr>\n",
       "    <tr>\n",
       "      <th>...</th>\n",
       "      <td>...</td>\n",
       "      <td>...</td>\n",
       "      <td>...</td>\n",
       "      <td>...</td>\n",
       "      <td>...</td>\n",
       "      <td>...</td>\n",
       "      <td>...</td>\n",
       "    </tr>\n",
       "    <tr>\n",
       "      <th>247</th>\n",
       "      <td>2022-01-31</td>\n",
       "      <td>0.16</td>\n",
       "      <td>0.16</td>\n",
       "      <td>0.16</td>\n",
       "      <td>0.16</td>\n",
       "      <td>0.16</td>\n",
       "      <td>0</td>\n",
       "    </tr>\n",
       "    <tr>\n",
       "      <th>248</th>\n",
       "      <td>2022-02-01</td>\n",
       "      <td>0.16</td>\n",
       "      <td>0.16</td>\n",
       "      <td>0.16</td>\n",
       "      <td>0.16</td>\n",
       "      <td>0.16</td>\n",
       "      <td>600</td>\n",
       "    </tr>\n",
       "    <tr>\n",
       "      <th>249</th>\n",
       "      <td>2022-02-02</td>\n",
       "      <td>0.17</td>\n",
       "      <td>0.17</td>\n",
       "      <td>0.17</td>\n",
       "      <td>0.17</td>\n",
       "      <td>0.17</td>\n",
       "      <td>1000</td>\n",
       "    </tr>\n",
       "    <tr>\n",
       "      <th>250</th>\n",
       "      <td>2022-02-03</td>\n",
       "      <td>0.16</td>\n",
       "      <td>0.16</td>\n",
       "      <td>0.16</td>\n",
       "      <td>0.16</td>\n",
       "      <td>0.16</td>\n",
       "      <td>100</td>\n",
       "    </tr>\n",
       "    <tr>\n",
       "      <th>251</th>\n",
       "      <td>2022-02-04</td>\n",
       "      <td>0.16</td>\n",
       "      <td>0.16</td>\n",
       "      <td>0.15</td>\n",
       "      <td>0.15</td>\n",
       "      <td>0.15</td>\n",
       "      <td>9000</td>\n",
       "    </tr>\n",
       "  </tbody>\n",
       "</table>\n",
       "<p>252 rows × 7 columns</p>\n",
       "</div>"
      ],
      "text/plain": [
       "          Date  Open  High   Low  Close  Adj Close   Volume\n",
       "0   2021-02-08  0.20  0.22  0.19   0.19       0.19    70200\n",
       "1   2021-02-09  0.19  0.21  0.19   0.19       0.19    51600\n",
       "2   2021-02-10  0.39  0.40  0.24   0.27       0.27  4710100\n",
       "3   2021-02-11  0.28  0.32  0.27   0.28       0.28   795700\n",
       "4   2021-02-12  0.27  0.28  0.21   0.22       0.22   595600\n",
       "..         ...   ...   ...   ...    ...        ...      ...\n",
       "247 2022-01-31  0.16  0.16  0.16   0.16       0.16        0\n",
       "248 2022-02-01  0.16  0.16  0.16   0.16       0.16      600\n",
       "249 2022-02-02  0.17  0.17  0.17   0.17       0.17     1000\n",
       "250 2022-02-03  0.16  0.16  0.16   0.16       0.16      100\n",
       "251 2022-02-04  0.16  0.16  0.15   0.15       0.15     9000\n",
       "\n",
       "[252 rows x 7 columns]"
      ]
     },
     "execution_count": 19,
     "metadata": {},
     "output_type": "execute_result"
    }
   ],
   "source": [
    "df_num"
   ]
  },
  {
   "cell_type": "code",
   "execution_count": 20,
   "metadata": {
    "execution": {
     "iopub.execute_input": "2022-02-09T02:03:07.055809Z",
     "iopub.status.busy": "2022-02-09T02:03:07.055132Z",
     "iopub.status.idle": "2022-02-09T02:03:07.085531Z",
     "shell.execute_reply": "2022-02-09T02:03:07.084628Z",
     "shell.execute_reply.started": "2022-02-09T02:03:07.055773Z"
    },
    "id": "qVQ8YbuZ2GDf",
    "outputId": "71bdc8fc-4ff1-4716-cc30-88369774f1ac"
   },
   "outputs": [
    {
     "data": {
      "text/html": [
       "<div>\n",
       "<style scoped>\n",
       "    .dataframe tbody tr th:only-of-type {\n",
       "        vertical-align: middle;\n",
       "    }\n",
       "\n",
       "    .dataframe tbody tr th {\n",
       "        vertical-align: top;\n",
       "    }\n",
       "\n",
       "    .dataframe thead th {\n",
       "        text-align: right;\n",
       "    }\n",
       "</style>\n",
       "<table border=\"1\" class=\"dataframe\">\n",
       "  <thead>\n",
       "    <tr style=\"text-align: right;\">\n",
       "      <th></th>\n",
       "      <th>Open</th>\n",
       "      <th>High</th>\n",
       "      <th>Low</th>\n",
       "      <th>Close</th>\n",
       "      <th>Adj Close</th>\n",
       "      <th>Volume</th>\n",
       "    </tr>\n",
       "  </thead>\n",
       "  <tbody>\n",
       "    <tr>\n",
       "      <th>count</th>\n",
       "      <td>252.000000</td>\n",
       "      <td>252.000000</td>\n",
       "      <td>252.000000</td>\n",
       "      <td>252.000000</td>\n",
       "      <td>252.000000</td>\n",
       "      <td>2.520000e+02</td>\n",
       "    </tr>\n",
       "    <tr>\n",
       "      <th>mean</th>\n",
       "      <td>0.186706</td>\n",
       "      <td>0.192540</td>\n",
       "      <td>0.181111</td>\n",
       "      <td>0.185675</td>\n",
       "      <td>0.185675</td>\n",
       "      <td>7.413571e+04</td>\n",
       "    </tr>\n",
       "    <tr>\n",
       "      <th>std</th>\n",
       "      <td>0.022277</td>\n",
       "      <td>0.025419</td>\n",
       "      <td>0.015369</td>\n",
       "      <td>0.018336</td>\n",
       "      <td>0.018336</td>\n",
       "      <td>3.063803e+05</td>\n",
       "    </tr>\n",
       "    <tr>\n",
       "      <th>min</th>\n",
       "      <td>0.160000</td>\n",
       "      <td>0.160000</td>\n",
       "      <td>0.150000</td>\n",
       "      <td>0.150000</td>\n",
       "      <td>0.150000</td>\n",
       "      <td>0.000000e+00</td>\n",
       "    </tr>\n",
       "    <tr>\n",
       "      <th>25%</th>\n",
       "      <td>0.170000</td>\n",
       "      <td>0.180000</td>\n",
       "      <td>0.170000</td>\n",
       "      <td>0.170000</td>\n",
       "      <td>0.170000</td>\n",
       "      <td>7.775000e+03</td>\n",
       "    </tr>\n",
       "    <tr>\n",
       "      <th>50%</th>\n",
       "      <td>0.180000</td>\n",
       "      <td>0.190000</td>\n",
       "      <td>0.180000</td>\n",
       "      <td>0.180000</td>\n",
       "      <td>0.180000</td>\n",
       "      <td>2.820000e+04</td>\n",
       "    </tr>\n",
       "    <tr>\n",
       "      <th>75%</th>\n",
       "      <td>0.190000</td>\n",
       "      <td>0.200000</td>\n",
       "      <td>0.190000</td>\n",
       "      <td>0.190000</td>\n",
       "      <td>0.190000</td>\n",
       "      <td>6.582500e+04</td>\n",
       "    </tr>\n",
       "    <tr>\n",
       "      <th>max</th>\n",
       "      <td>0.390000</td>\n",
       "      <td>0.400000</td>\n",
       "      <td>0.270000</td>\n",
       "      <td>0.280000</td>\n",
       "      <td>0.280000</td>\n",
       "      <td>4.710100e+06</td>\n",
       "    </tr>\n",
       "  </tbody>\n",
       "</table>\n",
       "</div>"
      ],
      "text/plain": [
       "             Open        High         Low       Close   Adj Close  \\\n",
       "count  252.000000  252.000000  252.000000  252.000000  252.000000   \n",
       "mean     0.186706    0.192540    0.181111    0.185675    0.185675   \n",
       "std      0.022277    0.025419    0.015369    0.018336    0.018336   \n",
       "min      0.160000    0.160000    0.150000    0.150000    0.150000   \n",
       "25%      0.170000    0.180000    0.170000    0.170000    0.170000   \n",
       "50%      0.180000    0.190000    0.180000    0.180000    0.180000   \n",
       "75%      0.190000    0.200000    0.190000    0.190000    0.190000   \n",
       "max      0.390000    0.400000    0.270000    0.280000    0.280000   \n",
       "\n",
       "             Volume  \n",
       "count  2.520000e+02  \n",
       "mean   7.413571e+04  \n",
       "std    3.063803e+05  \n",
       "min    0.000000e+00  \n",
       "25%    7.775000e+03  \n",
       "50%    2.820000e+04  \n",
       "75%    6.582500e+04  \n",
       "max    4.710100e+06  "
      ]
     },
     "execution_count": 20,
     "metadata": {},
     "output_type": "execute_result"
    }
   ],
   "source": [
    "df_num.describe()\n"
   ]
  },
  {
   "cell_type": "code",
   "execution_count": 21,
   "metadata": {
    "execution": {
     "iopub.execute_input": "2022-02-09T02:03:10.068567Z",
     "iopub.status.busy": "2022-02-09T02:03:10.068078Z",
     "iopub.status.idle": "2022-02-09T02:03:10.076814Z",
     "shell.execute_reply": "2022-02-09T02:03:10.075993Z",
     "shell.execute_reply.started": "2022-02-09T02:03:10.068529Z"
    },
    "id": "xX2b4nrU2TCJ",
    "outputId": "08fb4700-d547-47f7-83c0-c90669d492a1"
   },
   "outputs": [
    {
     "data": {
      "text/plain": [
       "Date         0\n",
       "Open         0\n",
       "High         0\n",
       "Low          0\n",
       "Close        0\n",
       "Adj Close    0\n",
       "Volume       0\n",
       "dtype: int64"
      ]
     },
     "execution_count": 21,
     "metadata": {},
     "output_type": "execute_result"
    }
   ],
   "source": [
    "#check for null values\n",
    "df_num.isnull().sum()\n"
   ]
  },
  {
   "cell_type": "code",
   "execution_count": 22,
   "metadata": {
    "execution": {
     "iopub.execute_input": "2022-02-09T02:03:11.017958Z",
     "iopub.status.busy": "2022-02-09T02:03:11.017276Z",
     "iopub.status.idle": "2022-02-09T02:03:11.222680Z",
     "shell.execute_reply": "2022-02-09T02:03:11.222047Z",
     "shell.execute_reply.started": "2022-02-09T02:03:11.017921Z"
    },
    "id": "rLxyVgY5y_NC",
    "outputId": "858559cf-6c94-4944-a9ef-f419575c381b"
   },
   "outputs": [
    {
     "data": {
      "text/plain": [
       "Text(0, 0.5, 'QMCI')"
      ]
     },
     "execution_count": 22,
     "metadata": {},
     "output_type": "execute_result"
    },
    {
     "data": {
      "image/png": "[encoded data removed]",
      "text/plain": [
       "<Figure size 720x432 with 1 Axes>"
      ]
     },
     "metadata": {
      "needs_background": "light"
     },
     "output_type": "display_data"
    }
   ],
   "source": [
    "plt.figure(figsize=(10,6))\n",
    "df_num['Close'].plot()\n",
    "plt.ylabel('QMCI')\n"
   ]
  },
  {
   "cell_type": "markdown",
   "metadata": {},
   "source": [
    "### Plotting Moving Average"
   ]
  },
  {
   "cell_type": "code",
   "execution_count": 23,
   "metadata": {
    "execution": {
     "iopub.execute_input": "2022-02-09T02:03:13.377779Z",
     "iopub.status.busy": "2022-02-09T02:03:13.377252Z",
     "iopub.status.idle": "2022-02-09T02:03:13.608667Z",
     "shell.execute_reply": "2022-02-09T02:03:13.607875Z",
     "shell.execute_reply.started": "2022-02-09T02:03:13.377741Z"
    },
    "id": "jqfz4OoBJPSq",
    "outputId": "c3dfd2a5-d95d-42da-f8b3-e03b3ebcaa1b"
   },
   "outputs": [
    {
     "data": {
      "text/plain": [
       "<matplotlib.legend.Legend at 0x7f4d2b50c290>"
      ]
     },
     "execution_count": 23,
     "metadata": {},
     "output_type": "execute_result"
    },
    {
     "data": {
      "image/png": "[encoded data removed]",
      "text/plain": [
       "<Figure size 720x432 with 1 Axes>"
      ]
     },
     "metadata": {
      "needs_background": "light"
     },
     "output_type": "display_data"
    }
   ],
   "source": [
    "close = df_num['Close']\n",
    "\n",
    "ma = close.rolling(window = 50).mean()\n",
    "std = close.rolling(window = 50).std()\n",
    "\n",
    "plt.figure(figsize=(10,6))\n",
    "df_num['Close'].plot(color='g',label='Close')\n",
    "ma.plot(color = 'r',label='Rolling Mean')\n",
    "std.plot(label = 'Rolling Standard Deviation')\n",
    "\n",
    "plt.legend()\n",
    "\n"
   ]
  },
  {
   "cell_type": "code",
   "execution_count": 24,
   "metadata": {
    "execution": {
     "iopub.execute_input": "2022-02-09T02:03:16.136060Z",
     "iopub.status.busy": "2022-02-09T02:03:16.135322Z",
     "iopub.status.idle": "2022-02-09T02:03:16.140434Z",
     "shell.execute_reply": "2022-02-09T02:03:16.139720Z",
     "shell.execute_reply.started": "2022-02-09T02:03:16.136009Z"
    },
    "id": "RHjxECOn6Ygc"
   },
   "outputs": [],
   "source": [
    "#split the data to train and test\n",
    "train = df_num[:200]\n",
    "test = df_num[200:]\n"
   ]
  },
  {
   "cell_type": "markdown",
   "metadata": {
    "id": "7Ucuxu6f7FGy"
   },
   "source": [
    "### Rolling mean and Standard Deviation\n"
   ]
  },
  {
   "cell_type": "code",
   "execution_count": 25,
   "metadata": {
    "execution": {
     "iopub.execute_input": "2022-02-09T02:03:19.117524Z",
     "iopub.status.busy": "2022-02-09T02:03:19.116970Z",
     "iopub.status.idle": "2022-02-09T02:03:19.362856Z",
     "shell.execute_reply": "2022-02-09T02:03:19.362152Z",
     "shell.execute_reply.started": "2022-02-09T02:03:19.117484Z"
    },
    "id": "b5MTNNPo7Cmy",
    "outputId": "d310a54a-824a-4553-f310-1b5b47f5efd0"
   },
   "outputs": [
    {
     "data": {
      "image/png": "[encoded data removed]",
      "text/plain": [
       "<Figure size 720x576 with 1 Axes>"
      ]
     },
     "metadata": {
      "needs_background": "light"
     },
     "output_type": "display_data"
    },
    {
     "name": "stdout",
     "output_type": "stream",
     "text": [
      "Results of dickey fuller test\n",
      "ADF Test Statistic : -2.6310567849620403\n",
      "p-value : 0.08674682352531471\n",
      "#Lags Used : 5\n",
      "Number of Observations Used : 194\n",
      "Weak evidence against null hypothesis, time series is non-stationary \n"
     ]
    }
   ],
   "source": [
    "def test_stationarity(timeseries):\n",
    "\n",
    " #Determing rolling statistics\n",
    " rolmean = timeseries.rolling(20).mean()\n",
    " rolstd = timeseries.rolling(20).std()\n",
    "\n",
    " #Plot rolling statistics:\n",
    " plt.figure(figsize = (10,8))\n",
    " plt.plot(timeseries, color = 'y', label = 'original')\n",
    " plt.plot(rolmean, color = 'r', label = 'rolling mean')\n",
    " plt.plot(rolstd, color = 'b', label = 'rolling std')\n",
    " plt.xlabel('Date')\n",
    " plt.legend()\n",
    " plt.title('Rolling Mean and Standard Deviation',  fontsize = 20)\n",
    " plt.show(block = False)\n",
    " \n",
    " print('Results of dickey fuller test')\n",
    " result = adfuller(timeseries, autolag = 'AIC')\n",
    " labels = ['ADF Test Statistic','p-value','#Lags Used','Number of Observations Used']\n",
    " for value,label in zip(result, labels):\n",
    "   print(label+' : '+str(value) )\n",
    " if result[1] <= 0.05:\n",
    "   print(\"Strong evidence against the null hypothesis(Ho), reject the null hypothesis. Data is stationary\")\n",
    " else:\n",
    "   print(\"Weak evidence against null hypothesis, time series is non-stationary \")\n",
    "test_stationarity(train['Close'])\n"
   ]
  },
  {
   "cell_type": "code",
   "execution_count": 26,
   "metadata": {
    "execution": {
     "iopub.execute_input": "2022-02-09T02:03:22.530743Z",
     "iopub.status.busy": "2022-02-09T02:03:22.530252Z",
     "iopub.status.idle": "2022-02-09T02:03:22.899736Z",
     "shell.execute_reply": "2022-02-09T02:03:22.899016Z",
     "shell.execute_reply.started": "2022-02-09T02:03:22.530707Z"
    },
    "id": "aISgS9j58lYb",
    "outputId": "bdb4a905-4e98-4691-d5ec-e207cc49419c"
   },
   "outputs": [
    {
     "data": {
      "text/plain": [
       "[<matplotlib.lines.Line2D at 0x7f4d2b320c90>]"
      ]
     },
     "execution_count": 26,
     "metadata": {},
     "output_type": "execute_result"
    },
    {
     "data": {
      "image/png": "[encoded data removed]",
      "text/plain": [
       "<Figure size 720x432 with 1 Axes>"
      ]
     },
     "metadata": {
      "needs_background": "light"
     },
     "output_type": "display_data"
    }
   ],
   "source": [
    "train_log = np.log(train['Close']) \n",
    "test_log = np.log(test['Close'])\n",
    "\n",
    "mav = train_log.rolling(24).mean() \n",
    "plt.figure(figsize = (10,6))\n",
    "plt.plot(train_log) \n",
    "plt.plot(mav, color = 'red') \n"
   ]
  },
  {
   "cell_type": "markdown",
   "metadata": {
    "id": "ZiMvEqA68seb"
   },
   "source": [
    "## Auto arima to make predictions using log data\n"
   ]
  },
  {
   "cell_type": "code",
   "execution_count": 27,
   "metadata": {
    "execution": {
     "iopub.execute_input": "2022-02-09T02:03:25.698387Z",
     "iopub.status.busy": "2022-02-09T02:03:25.697556Z",
     "iopub.status.idle": "2022-02-09T02:03:35.851408Z",
     "shell.execute_reply": "2022-02-09T02:03:35.850271Z",
     "shell.execute_reply.started": "2022-02-09T02:03:25.698337Z"
    },
    "id": "8u7zft1I9Es7",
    "outputId": "78a9f36e-7731-43ee-dd84-d776b439d0a1"
   },
   "outputs": [
    {
     "name": "stdout",
     "output_type": "stream",
     "text": [
      "Collecting pmdarima\n",
      "  Downloading pmdarima-1.8.4-cp37-cp37m-manylinux_2_17_x86_64.manylinux2014_x86_64.manylinux_2_24_x86_64.whl (1.4 MB)\n",
      "     |████████████████████████████████| 1.4 MB 516 kB/s            \n",
      "\u001b[?25hRequirement already satisfied: statsmodels!=0.12.0,>=0.11 in /opt/conda/lib/python3.7/site-packages (from pmdarima) (0.13.1)\n",
      "Requirement already satisfied: urllib3 in /opt/conda/lib/python3.7/site-packages (from pmdarima) (1.26.7)\n",
      "Requirement already satisfied: scipy>=1.3.2 in /opt/conda/lib/python3.7/site-packages (from pmdarima) (1.7.3)\n",
      "Requirement already satisfied: joblib>=0.11 in /opt/conda/lib/python3.7/site-packages (from pmdarima) (1.1.0)\n",
      "Requirement already satisfied: pandas>=0.19 in /opt/conda/lib/python3.7/site-packages (from pmdarima) (1.3.5)\n",
      "Requirement already satisfied: scikit-learn>=0.22 in /opt/conda/lib/python3.7/site-packages (from pmdarima) (0.23.2)\n",
      "Requirement already satisfied: numpy>=1.19.3 in /opt/conda/lib/python3.7/site-packages (from pmdarima) (1.20.3)\n",
      "Requirement already satisfied: setuptools!=50.0.0,>=38.6.0 in /opt/conda/lib/python3.7/site-packages (from pmdarima) (59.5.0)\n",
      "Requirement already satisfied: Cython!=0.29.18,>=0.29 in /opt/conda/lib/python3.7/site-packages (from pmdarima) (0.29.26)\n",
      "Requirement already satisfied: python-dateutil>=2.7.3 in /opt/conda/lib/python3.7/site-packages (from pandas>=0.19->pmdarima) (2.8.0)\n",
      "Requirement already satisfied: pytz>=2017.3 in /opt/conda/lib/python3.7/site-packages (from pandas>=0.19->pmdarima) (2021.3)\n",
      "Requirement already satisfied: threadpoolctl>=2.0.0 in /opt/conda/lib/python3.7/site-packages (from scikit-learn>=0.22->pmdarima) (3.0.0)\n",
      "Requirement already satisfied: patsy>=0.5.2 in /opt/conda/lib/python3.7/site-packages (from statsmodels!=0.12.0,>=0.11->pmdarima) (0.5.2)\n",
      "Requirement already satisfied: six in /opt/conda/lib/python3.7/site-packages (from patsy>=0.5.2->statsmodels!=0.12.0,>=0.11->pmdarima) (1.16.0)\n",
      "Installing collected packages: pmdarima\n",
      "Successfully installed pmdarima-1.8.4\n",
      "\u001b[33mWARNING: Running pip as the 'root' user can result in broken permissions and conflicting behaviour with the system package manager. It is recommended to use a virtual environment instead: https://pip.pypa.io/warnings/venv\u001b[0m\n"
     ]
    }
   ],
   "source": [
    "!pip install pmdarima"
   ]
  },
  {
   "cell_type": "code",
   "execution_count": 28,
   "metadata": {
    "execution": {
     "iopub.execute_input": "2022-02-09T02:03:35.853996Z",
     "iopub.status.busy": "2022-02-09T02:03:35.853707Z",
     "iopub.status.idle": "2022-02-09T02:03:51.279547Z",
     "shell.execute_reply": "2022-02-09T02:03:51.278284Z",
     "shell.execute_reply.started": "2022-02-09T02:03:35.853956Z"
    },
    "id": "VDvXjAed8vfs",
    "outputId": "a505e425-4a3d-437d-bbee-f7d8aab3fc8a"
   },
   "outputs": [
    {
     "name": "stdout",
     "output_type": "stream",
     "text": [
      "Performing stepwise search to minimize aic\n",
      " ARIMA(2,1,2)(0,0,0)[0] intercept   : AIC=-600.405, Time=0.42 sec\n",
      " ARIMA(0,1,0)(0,0,0)[0] intercept   : AIC=-569.632, Time=0.15 sec\n",
      " ARIMA(1,1,0)(0,0,0)[0] intercept   : AIC=-570.766, Time=0.07 sec\n",
      " ARIMA(0,1,1)(0,0,0)[0] intercept   : AIC=-576.677, Time=0.32 sec\n",
      " ARIMA(0,1,0)(0,0,0)[0]             : AIC=-571.627, Time=0.04 sec\n",
      " ARIMA(1,1,2)(0,0,0)[0] intercept   : AIC=-600.989, Time=0.56 sec\n",
      " ARIMA(0,1,2)(0,0,0)[0] intercept   : AIC=-602.012, Time=0.19 sec\n",
      " ARIMA(0,1,3)(0,0,0)[0] intercept   : AIC=-601.557, Time=0.65 sec\n",
      " ARIMA(1,1,1)(0,0,0)[0] intercept   : AIC=-595.176, Time=0.14 sec\n",
      " ARIMA(1,1,3)(0,0,0)[0] intercept   : AIC=-603.062, Time=0.51 sec\n",
      " ARIMA(2,1,3)(0,0,0)[0] intercept   : AIC=-608.680, Time=0.55 sec\n",
      " ARIMA(3,1,3)(0,0,0)[0] intercept   : AIC=-598.439, Time=0.59 sec\n",
      " ARIMA(2,1,4)(0,0,0)[0] intercept   : AIC=-610.889, Time=1.43 sec\n",
      " ARIMA(1,1,4)(0,0,0)[0] intercept   : AIC=-604.037, Time=1.02 sec\n",
      " ARIMA(3,1,4)(0,0,0)[0] intercept   : AIC=-601.670, Time=0.74 sec\n",
      " ARIMA(2,1,5)(0,0,0)[0] intercept   : AIC=-611.433, Time=0.83 sec\n",
      " ARIMA(1,1,5)(0,0,0)[0] intercept   : AIC=-602.766, Time=0.78 sec\n",
      " ARIMA(3,1,5)(0,0,0)[0] intercept   : AIC=-610.343, Time=0.86 sec\n",
      " ARIMA(2,1,5)(0,0,0)[0]             : AIC=-615.760, Time=0.71 sec\n",
      " ARIMA(1,1,5)(0,0,0)[0]             : AIC=-603.892, Time=0.53 sec\n",
      " ARIMA(2,1,4)(0,0,0)[0]             : AIC=-612.510, Time=0.99 sec\n",
      " ARIMA(3,1,5)(0,0,0)[0]             : AIC=inf, Time=1.03 sec\n",
      " ARIMA(1,1,4)(0,0,0)[0]             : AIC=-605.329, Time=0.41 sec\n",
      " ARIMA(3,1,4)(0,0,0)[0]             : AIC=-603.721, Time=0.62 sec\n",
      "\n",
      "Best model:  ARIMA(2,1,5)(0,0,0)[0]          \n",
      "Total fit time: 14.194 seconds\n"
     ]
    }
   ],
   "source": [
    "from pmdarima import auto_arima\n",
    "model = auto_arima(train_log, trace = True, error_action = 'ignore', suppress_warnings = True)\n",
    "model.fit(train_log)\n",
    "predictions = model.predict(n_periods = len(test))\n",
    "predictions = pd.DataFrame(predictions,index = test_log.index,columns=['Prediction'])\n"
   ]
  },
  {
   "cell_type": "markdown",
   "metadata": {},
   "source": [
    "#### Visualize Prediction"
   ]
  },
  {
   "cell_type": "code",
   "execution_count": 29,
   "metadata": {
    "execution": {
     "iopub.execute_input": "2022-02-09T02:03:57.116083Z",
     "iopub.status.busy": "2022-02-09T02:03:57.115828Z",
     "iopub.status.idle": "2022-02-09T02:03:57.321701Z",
     "shell.execute_reply": "2022-02-09T02:03:57.321060Z",
     "shell.execute_reply.started": "2022-02-09T02:03:57.116052Z"
    }
   },
   "outputs": [
    {
     "data": {
      "text/plain": [
       "Text(0, 0.5, 'Actual Stock Price')"
      ]
     },
     "execution_count": 29,
     "metadata": {},
     "output_type": "execute_result"
    },
    {
     "data": {
      "image/png": "[encoded data removed]",
      "text/plain": [
       "<Figure size 432x288 with 1 Axes>"
      ]
     },
     "metadata": {
      "needs_background": "light"
     },
     "output_type": "display_data"
    }
   ],
   "source": [
    "plt.plot(train_log, label='Train')\n",
    "plt.plot(test_log, label='Test')\n",
    "plt.plot(predictions, label='Prediction')\n",
    "plt.title('QMCI Stock Price Prediction')\n",
    "plt.xlabel('Time')\n",
    "plt.ylabel('Actual Stock Price')\n"
   ]
  },
  {
   "cell_type": "code",
   "execution_count": 30,
   "metadata": {
    "execution": {
     "iopub.execute_input": "2022-02-09T02:04:25.877978Z",
     "iopub.status.busy": "2022-02-09T02:04:25.877703Z",
     "iopub.status.idle": "2022-02-09T02:04:25.886582Z",
     "shell.execute_reply": "2022-02-09T02:04:25.885804Z",
     "shell.execute_reply.started": "2022-02-09T02:04:25.877944Z"
    }
   },
   "outputs": [
    {
     "name": "stdout",
     "output_type": "stream",
     "text": [
      "RMSE :  0.05305130554969066\n"
     ]
    }
   ],
   "source": [
    "rms = np.sqrt(mean_squared_error(test_log,predictions))\n",
    "print(\"RMSE : \", rms)\n"
   ]
  },
  {
   "cell_type": "markdown",
   "metadata": {},
   "source": [
    "## Merging the Numerical and Textual Data\n"
   ]
  },
  {
   "cell_type": "code",
   "execution_count": 31,
   "metadata": {
    "execution": {
     "iopub.execute_input": "2022-02-09T02:04:28.762090Z",
     "iopub.status.busy": "2022-02-09T02:04:28.761610Z",
     "iopub.status.idle": "2022-02-09T02:04:28.785592Z",
     "shell.execute_reply": "2022-02-09T02:04:28.784909Z",
     "shell.execute_reply.started": "2022-02-09T02:04:28.762051Z"
    }
   },
   "outputs": [
    {
     "data": {
      "text/html": [
       "<div>\n",
       "<style scoped>\n",
       "    .dataframe tbody tr th:only-of-type {\n",
       "        vertical-align: middle;\n",
       "    }\n",
       "\n",
       "    .dataframe tbody tr th {\n",
       "        vertical-align: top;\n",
       "    }\n",
       "\n",
       "    .dataframe thead th {\n",
       "        text-align: right;\n",
       "    }\n",
       "</style>\n",
       "<table border=\"1\" class=\"dataframe\">\n",
       "  <thead>\n",
       "    <tr style=\"text-align: right;\">\n",
       "      <th></th>\n",
       "      <th>publish_date</th>\n",
       "      <th>headline_text</th>\n",
       "      <th>Subjectivity</th>\n",
       "      <th>Polarity</th>\n",
       "      <th>Compound</th>\n",
       "      <th>Negative</th>\n",
       "      <th>Neutral</th>\n",
       "      <th>Positive</th>\n",
       "    </tr>\n",
       "  </thead>\n",
       "  <tbody>\n",
       "    <tr>\n",
       "      <th>0</th>\n",
       "      <td>2001-01-02</td>\n",
       "      <td>Fissures in Hurriyat over Pak visit America's ...</td>\n",
       "      <td>0.286859</td>\n",
       "      <td>0.143590</td>\n",
       "      <td>-0.9804</td>\n",
       "      <td>0.123</td>\n",
       "      <td>0.808</td>\n",
       "      <td>0.069</td>\n",
       "    </tr>\n",
       "    <tr>\n",
       "      <th>1</th>\n",
       "      <td>2001-01-03</td>\n",
       "      <td>Powerless north India gropes in the dark Think...</td>\n",
       "      <td>0.392857</td>\n",
       "      <td>0.089286</td>\n",
       "      <td>-0.8910</td>\n",
       "      <td>0.156</td>\n",
       "      <td>0.735</td>\n",
       "      <td>0.109</td>\n",
       "    </tr>\n",
       "    <tr>\n",
       "      <th>2</th>\n",
       "      <td>2001-01-04</td>\n",
       "      <td>The string that pulled Stephen Hawking to Indi...</td>\n",
       "      <td>0.445360</td>\n",
       "      <td>0.093039</td>\n",
       "      <td>0.7543</td>\n",
       "      <td>0.104</td>\n",
       "      <td>0.792</td>\n",
       "      <td>0.104</td>\n",
       "    </tr>\n",
       "    <tr>\n",
       "      <th>3</th>\n",
       "      <td>2001-01-05</td>\n",
       "      <td>Light combat craft takes India into club class...</td>\n",
       "      <td>0.480553</td>\n",
       "      <td>0.264024</td>\n",
       "      <td>0.9365</td>\n",
       "      <td>0.142</td>\n",
       "      <td>0.696</td>\n",
       "      <td>0.161</td>\n",
       "    </tr>\n",
       "    <tr>\n",
       "      <th>4</th>\n",
       "      <td>2001-01-06</td>\n",
       "      <td>Light combat craft takes India into club class...</td>\n",
       "      <td>0.439394</td>\n",
       "      <td>0.248485</td>\n",
       "      <td>-0.8316</td>\n",
       "      <td>0.214</td>\n",
       "      <td>0.655</td>\n",
       "      <td>0.131</td>\n",
       "    </tr>\n",
       "    <tr>\n",
       "      <th>...</th>\n",
       "      <td>...</td>\n",
       "      <td>...</td>\n",
       "      <td>...</td>\n",
       "      <td>...</td>\n",
       "      <td>...</td>\n",
       "      <td>...</td>\n",
       "      <td>...</td>\n",
       "      <td>...</td>\n",
       "    </tr>\n",
       "    <tr>\n",
       "      <th>7257</th>\n",
       "      <td>2020-12-27</td>\n",
       "      <td>BigInterview  Dhritiman Chatterjee  Nobody da...</td>\n",
       "      <td>0.392082</td>\n",
       "      <td>0.042978</td>\n",
       "      <td>-0.9997</td>\n",
       "      <td>0.129</td>\n",
       "      <td>0.793</td>\n",
       "      <td>0.079</td>\n",
       "    </tr>\n",
       "    <tr>\n",
       "      <th>7258</th>\n",
       "      <td>2020-12-28</td>\n",
       "      <td>Horoscope Today     December       Check astro...</td>\n",
       "      <td>0.409973</td>\n",
       "      <td>0.071405</td>\n",
       "      <td>-0.9998</td>\n",
       "      <td>0.142</td>\n",
       "      <td>0.761</td>\n",
       "      <td>0.097</td>\n",
       "    </tr>\n",
       "    <tr>\n",
       "      <th>7259</th>\n",
       "      <td>2020-12-29</td>\n",
       "      <td>Man recovers charred remains of 'thief' from h...</td>\n",
       "      <td>0.415684</td>\n",
       "      <td>0.060775</td>\n",
       "      <td>-0.9999</td>\n",
       "      <td>0.151</td>\n",
       "      <td>0.753</td>\n",
       "      <td>0.096</td>\n",
       "    </tr>\n",
       "    <tr>\n",
       "      <th>7260</th>\n",
       "      <td>2020-12-30</td>\n",
       "      <td>Numerology Readings    December       Predicti...</td>\n",
       "      <td>0.436863</td>\n",
       "      <td>0.046930</td>\n",
       "      <td>-0.9999</td>\n",
       "      <td>0.146</td>\n",
       "      <td>0.770</td>\n",
       "      <td>0.084</td>\n",
       "    </tr>\n",
       "    <tr>\n",
       "      <th>7261</th>\n",
       "      <td>2020-12-31</td>\n",
       "      <td>Horoscope Today     December       Check astro...</td>\n",
       "      <td>0.408454</td>\n",
       "      <td>0.091829</td>\n",
       "      <td>-0.9998</td>\n",
       "      <td>0.141</td>\n",
       "      <td>0.759</td>\n",
       "      <td>0.100</td>\n",
       "    </tr>\n",
       "  </tbody>\n",
       "</table>\n",
       "<p>7262 rows × 8 columns</p>\n",
       "</div>"
      ],
      "text/plain": [
       "     publish_date                                      headline_text  \\\n",
       "0      2001-01-02  Fissures in Hurriyat over Pak visit America's ...   \n",
       "1      2001-01-03  Powerless north India gropes in the dark Think...   \n",
       "2      2001-01-04  The string that pulled Stephen Hawking to Indi...   \n",
       "3      2001-01-05  Light combat craft takes India into club class...   \n",
       "4      2001-01-06  Light combat craft takes India into club class...   \n",
       "...           ...                                                ...   \n",
       "7257   2020-12-27   BigInterview  Dhritiman Chatterjee  Nobody da...   \n",
       "7258   2020-12-28  Horoscope Today     December       Check astro...   \n",
       "7259   2020-12-29  Man recovers charred remains of 'thief' from h...   \n",
       "7260   2020-12-30  Numerology Readings    December       Predicti...   \n",
       "7261   2020-12-31  Horoscope Today     December       Check astro...   \n",
       "\n",
       "      Subjectivity  Polarity  Compound  Negative  Neutral  Positive  \n",
       "0         0.286859  0.143590   -0.9804     0.123    0.808     0.069  \n",
       "1         0.392857  0.089286   -0.8910     0.156    0.735     0.109  \n",
       "2         0.445360  0.093039    0.7543     0.104    0.792     0.104  \n",
       "3         0.480553  0.264024    0.9365     0.142    0.696     0.161  \n",
       "4         0.439394  0.248485   -0.8316     0.214    0.655     0.131  \n",
       "...            ...       ...       ...       ...      ...       ...  \n",
       "7257      0.392082  0.042978   -0.9997     0.129    0.793     0.079  \n",
       "7258      0.409973  0.071405   -0.9998     0.142    0.761     0.097  \n",
       "7259      0.415684  0.060775   -0.9999     0.151    0.753     0.096  \n",
       "7260      0.436863  0.046930   -0.9999     0.146    0.770     0.084  \n",
       "7261      0.408454  0.091829   -0.9998     0.141    0.759     0.100  \n",
       "\n",
       "[7262 rows x 8 columns]"
      ]
     },
     "execution_count": 31,
     "metadata": {},
     "output_type": "execute_result"
    }
   ],
   "source": [
    "merge = df_text\n",
    "merge"
   ]
  },
  {
   "cell_type": "code",
   "execution_count": 32,
   "metadata": {
    "execution": {
     "iopub.execute_input": "2022-02-09T02:04:32.846010Z",
     "iopub.status.busy": "2022-02-09T02:04:32.845727Z",
     "iopub.status.idle": "2022-02-09T02:04:32.865881Z",
     "shell.execute_reply": "2022-02-09T02:04:32.865186Z",
     "shell.execute_reply.started": "2022-02-09T02:04:32.845980Z"
    }
   },
   "outputs": [
    {
     "data": {
      "text/html": [
       "<div>\n",
       "<style scoped>\n",
       "    .dataframe tbody tr th:only-of-type {\n",
       "        vertical-align: middle;\n",
       "    }\n",
       "\n",
       "    .dataframe tbody tr th {\n",
       "        vertical-align: top;\n",
       "    }\n",
       "\n",
       "    .dataframe thead th {\n",
       "        text-align: right;\n",
       "    }\n",
       "</style>\n",
       "<table border=\"1\" class=\"dataframe\">\n",
       "  <thead>\n",
       "    <tr style=\"text-align: right;\">\n",
       "      <th></th>\n",
       "      <th>Subjectivity</th>\n",
       "      <th>Polarity</th>\n",
       "      <th>Compound</th>\n",
       "      <th>Negative</th>\n",
       "      <th>Neutral</th>\n",
       "      <th>Positive</th>\n",
       "    </tr>\n",
       "  </thead>\n",
       "  <tbody>\n",
       "    <tr>\n",
       "      <th>0</th>\n",
       "      <td>0.286859</td>\n",
       "      <td>0.143590</td>\n",
       "      <td>-0.9804</td>\n",
       "      <td>0.123</td>\n",
       "      <td>0.808</td>\n",
       "      <td>0.069</td>\n",
       "    </tr>\n",
       "    <tr>\n",
       "      <th>1</th>\n",
       "      <td>0.392857</td>\n",
       "      <td>0.089286</td>\n",
       "      <td>-0.8910</td>\n",
       "      <td>0.156</td>\n",
       "      <td>0.735</td>\n",
       "      <td>0.109</td>\n",
       "    </tr>\n",
       "    <tr>\n",
       "      <th>2</th>\n",
       "      <td>0.445360</td>\n",
       "      <td>0.093039</td>\n",
       "      <td>0.7543</td>\n",
       "      <td>0.104</td>\n",
       "      <td>0.792</td>\n",
       "      <td>0.104</td>\n",
       "    </tr>\n",
       "    <tr>\n",
       "      <th>3</th>\n",
       "      <td>0.480553</td>\n",
       "      <td>0.264024</td>\n",
       "      <td>0.9365</td>\n",
       "      <td>0.142</td>\n",
       "      <td>0.696</td>\n",
       "      <td>0.161</td>\n",
       "    </tr>\n",
       "    <tr>\n",
       "      <th>4</th>\n",
       "      <td>0.439394</td>\n",
       "      <td>0.248485</td>\n",
       "      <td>-0.8316</td>\n",
       "      <td>0.214</td>\n",
       "      <td>0.655</td>\n",
       "      <td>0.131</td>\n",
       "    </tr>\n",
       "    <tr>\n",
       "      <th>...</th>\n",
       "      <td>...</td>\n",
       "      <td>...</td>\n",
       "      <td>...</td>\n",
       "      <td>...</td>\n",
       "      <td>...</td>\n",
       "      <td>...</td>\n",
       "    </tr>\n",
       "    <tr>\n",
       "      <th>7257</th>\n",
       "      <td>0.392082</td>\n",
       "      <td>0.042978</td>\n",
       "      <td>-0.9997</td>\n",
       "      <td>0.129</td>\n",
       "      <td>0.793</td>\n",
       "      <td>0.079</td>\n",
       "    </tr>\n",
       "    <tr>\n",
       "      <th>7258</th>\n",
       "      <td>0.409973</td>\n",
       "      <td>0.071405</td>\n",
       "      <td>-0.9998</td>\n",
       "      <td>0.142</td>\n",
       "      <td>0.761</td>\n",
       "      <td>0.097</td>\n",
       "    </tr>\n",
       "    <tr>\n",
       "      <th>7259</th>\n",
       "      <td>0.415684</td>\n",
       "      <td>0.060775</td>\n",
       "      <td>-0.9999</td>\n",
       "      <td>0.151</td>\n",
       "      <td>0.753</td>\n",
       "      <td>0.096</td>\n",
       "    </tr>\n",
       "    <tr>\n",
       "      <th>7260</th>\n",
       "      <td>0.436863</td>\n",
       "      <td>0.046930</td>\n",
       "      <td>-0.9999</td>\n",
       "      <td>0.146</td>\n",
       "      <td>0.770</td>\n",
       "      <td>0.084</td>\n",
       "    </tr>\n",
       "    <tr>\n",
       "      <th>7261</th>\n",
       "      <td>0.408454</td>\n",
       "      <td>0.091829</td>\n",
       "      <td>-0.9998</td>\n",
       "      <td>0.141</td>\n",
       "      <td>0.759</td>\n",
       "      <td>0.100</td>\n",
       "    </tr>\n",
       "  </tbody>\n",
       "</table>\n",
       "<p>7262 rows × 6 columns</p>\n",
       "</div>"
      ],
      "text/plain": [
       "      Subjectivity  Polarity  Compound  Negative  Neutral  Positive\n",
       "0         0.286859  0.143590   -0.9804     0.123    0.808     0.069\n",
       "1         0.392857  0.089286   -0.8910     0.156    0.735     0.109\n",
       "2         0.445360  0.093039    0.7543     0.104    0.792     0.104\n",
       "3         0.480553  0.264024    0.9365     0.142    0.696     0.161\n",
       "4         0.439394  0.248485   -0.8316     0.214    0.655     0.131\n",
       "...            ...       ...       ...       ...      ...       ...\n",
       "7257      0.392082  0.042978   -0.9997     0.129    0.793     0.079\n",
       "7258      0.409973  0.071405   -0.9998     0.142    0.761     0.097\n",
       "7259      0.415684  0.060775   -0.9999     0.151    0.753     0.096\n",
       "7260      0.436863  0.046930   -0.9999     0.146    0.770     0.084\n",
       "7261      0.408454  0.091829   -0.9998     0.141    0.759     0.100\n",
       "\n",
       "[7262 rows x 6 columns]"
      ]
     },
     "execution_count": 32,
     "metadata": {},
     "output_type": "execute_result"
    }
   ],
   "source": [
    "data = merge[['Subjectivity', 'Polarity', 'Compound', 'Negative', 'Neutral' ,'Positive']]\n",
    "data\n"
   ]
  },
  {
   "cell_type": "code",
   "execution_count": 33,
   "metadata": {
    "execution": {
     "iopub.execute_input": "2022-02-09T02:04:37.996029Z",
     "iopub.status.busy": "2022-02-09T02:04:37.995497Z",
     "iopub.status.idle": "2022-02-09T02:04:37.999985Z",
     "shell.execute_reply": "2022-02-09T02:04:37.999190Z",
     "shell.execute_reply.started": "2022-02-09T02:04:37.995991Z"
    }
   },
   "outputs": [],
   "source": [
    "X = data[:252]\n",
    "y = df_num['Close']\n"
   ]
  },
  {
   "cell_type": "code",
   "execution_count": 34,
   "metadata": {
    "execution": {
     "iopub.execute_input": "2022-02-09T02:04:42.006308Z",
     "iopub.status.busy": "2022-02-09T02:04:42.005792Z",
     "iopub.status.idle": "2022-02-09T02:04:42.017375Z",
     "shell.execute_reply": "2022-02-09T02:04:42.016458Z",
     "shell.execute_reply.started": "2022-02-09T02:04:42.006272Z"
    }
   },
   "outputs": [
    {
     "data": {
      "text/plain": [
       "(201, 6)"
      ]
     },
     "execution_count": 34,
     "metadata": {},
     "output_type": "execute_result"
    }
   ],
   "source": [
    "from sklearn.model_selection import train_test_split\n",
    "\n",
    "x_train, x_test, y_train, y_test = train_test_split(X, y, test_size=0.2, random_state = 0)\n",
    "x_train.shape\n"
   ]
  },
  {
   "cell_type": "markdown",
   "metadata": {},
   "source": [
    "## Apply Models"
   ]
  },
  {
   "cell_type": "markdown",
   "metadata": {},
   "source": [
    "### RandomForestRegressor Model"
   ]
  },
  {
   "cell_type": "code",
   "execution_count": 35,
   "metadata": {
    "execution": {
     "iopub.execute_input": "2022-02-09T02:04:49.415015Z",
     "iopub.status.busy": "2022-02-09T02:04:49.414747Z",
     "iopub.status.idle": "2022-02-09T02:04:49.602878Z",
     "shell.execute_reply": "2022-02-09T02:04:49.602159Z",
     "shell.execute_reply.started": "2022-02-09T02:04:49.414985Z"
    }
   },
   "outputs": [],
   "source": [
    "rf = RandomForestRegressor()\n",
    "rf.fit(x_train, y_train)\n",
    "prediction=rf.predict(x_test)\n"
   ]
  },
  {
   "cell_type": "code",
   "execution_count": 37,
   "metadata": {
    "execution": {
     "iopub.execute_input": "2022-02-09T02:05:01.381702Z",
     "iopub.status.busy": "2022-02-09T02:05:01.381147Z",
     "iopub.status.idle": "2022-02-09T02:05:01.389694Z",
     "shell.execute_reply": "2022-02-09T02:05:01.388712Z",
     "shell.execute_reply.started": "2022-02-09T02:05:01.381658Z"
    }
   },
   "outputs": [
    {
     "name": "stdout",
     "output_type": "stream",
     "text": [
      "[0.1808 0.2    0.1746 0.188  0.1747 0.1738 0.1846 0.1764 0.192  0.178 ]\n",
      "158    0.19\n",
      "83     0.18\n",
      "170    0.19\n",
      "101    0.17\n",
      "150    0.19\n",
      "199    0.18\n",
      "118    0.19\n",
      "227    0.16\n",
      "63     0.18\n",
      "135    0.19\n",
      "Name: Close, dtype: float64\n",
      "Mean Squared error:  0.00024587451153646784\n"
     ]
    }
   ],
   "source": [
    "print(prediction[:10])\n",
    "print(y_test[:10])\n",
    "print('Mean Squared error: ',mean_squared_error(prediction,y_test))\n"
   ]
  },
  {
   "cell_type": "markdown",
   "metadata": {},
   "source": [
    "### DecisionTreeRegressor Model"
   ]
  },
  {
   "cell_type": "code",
   "execution_count": 38,
   "metadata": {
    "execution": {
     "iopub.execute_input": "2022-02-09T02:05:05.009296Z",
     "iopub.status.busy": "2022-02-09T02:05:05.008846Z",
     "iopub.status.idle": "2022-02-09T02:05:05.023273Z",
     "shell.execute_reply": "2022-02-09T02:05:05.022316Z",
     "shell.execute_reply.started": "2022-02-09T02:05:05.009254Z"
    }
   },
   "outputs": [
    {
     "name": "stdout",
     "output_type": "stream",
     "text": [
      "Mean Squared error:  0.0005138480392156864\n"
     ]
    }
   ],
   "source": [
    "from sklearn.tree import DecisionTreeRegressor\n",
    "dec_tree = DecisionTreeRegressor()\n",
    "dec_tree.fit(x_train, y_train)\n",
    "predictions = dec_tree.predict(x_test)\n",
    "print('Mean Squared error: ',mean_squared_error(predictions,y_test))\n"
   ]
  },
  {
   "cell_type": "markdown",
   "metadata": {},
   "source": [
    "### XGBRegressor Model"
   ]
  },
  {
   "cell_type": "code",
   "execution_count": 39,
   "metadata": {
    "execution": {
     "iopub.execute_input": "2022-02-09T02:05:09.226250Z",
     "iopub.status.busy": "2022-02-09T02:05:09.225743Z",
     "iopub.status.idle": "2022-02-09T02:05:10.419743Z",
     "shell.execute_reply": "2022-02-09T02:05:10.419013Z",
     "shell.execute_reply.started": "2022-02-09T02:05:09.226189Z"
    }
   },
   "outputs": [
    {
     "name": "stdout",
     "output_type": "stream",
     "text": [
      "Mean Squared error:  0.0002865711676554356\n"
     ]
    }
   ],
   "source": [
    "xgb = xgboost.XGBRegressor()\n",
    "xgb.fit(x_train, y_train)\n",
    "predictions = xgb.predict(x_test)\n",
    "print('Mean Squared error: ',mean_squared_error(predictions,y_test))\n"
   ]
  },
  {
   "cell_type": "markdown",
   "metadata": {},
   "source": [
    "## Conclusion:\n",
    "we can see that RandomForestRegressor shows a better performance than the others"
   ]
  }
 ],
 "metadata": {
  "kernelspec": {
   "display_name": "Python 3 (ipykernel)",
   "language": "python",
   "name": "python3"
  },
  "language_info": {
   "codemirror_mode": {
    "name": "ipython",
    "version": 3
   },
   "file_extension": ".py",
   "mimetype": "text/x-python",
   "name": "python",
   "nbconvert_exporter": "python",
   "pygments_lexer": "ipython3",
   "version": "3.9.7"
  }
 },
 "nbformat": 4,
 "nbformat_minor": 4
}
